{
 "cells": [
  {
   "cell_type": "code",
   "execution_count": 20,
   "metadata": {
    "collapsed": false
   },
   "outputs": [],
   "source": [
    "player_id = 0\n",
    "def show_video(video=\"capture\", size=(1280, 720), self_url=\"smart-tv-tester\"):\n",
    "    global player_id\n",
    "    from IPython.display import HTML\n",
    "    from textwrap import dedent\n",
    "    player_id += 1\n",
    "    html = dedent(r\"\"\"\\\n",
    "        <div id=\"player-%(player_id)i\" style=\"width: %(width)spx; height: %(height)spx\">\n",
    "        </div>\n",
    "\n",
    "        <script src=\"https://releases.flowplayer.org/js/flowplayer-3.2.12.min.js\"></script>\n",
    "        <script>\n",
    "        flowplayer(\n",
    "          \"player-%(player_id)i\",\n",
    "          {\n",
    "            src: \"https://releases.flowplayer.org/swf/flowplayer-3.2.16.swf\",\n",
    "            wmode: \"opaque\",\n",
    "          },\n",
    "          {\n",
    "            clip: {\n",
    "              url: \"%(video)s\",\n",
    "              provider: \"rtmp\",\n",
    "              live: true,\n",
    "              autoPlay: true,\n",
    "              bufferLength: 1,\n",
    "              scaling: 'fit',\n",
    "            },\n",
    "            plugins: {\n",
    "              rtmp: {\n",
    "                url: \"https://releases.flowplayer.org/swf/flowplayer.rtmp-3.2.12.swf\",\n",
    "                netConnectionUrl: \"rtmp://%(self_url)s/flvplayback\",\n",
    "              },\n",
    "            },\n",
    "          });\n",
    "        </script>\n",
    "        \"\"\") % dict(width=size[0], height=size[1], self_url=self_url, video=video, player_id=player_id)\n",
    "    return HTML(html)\n",
    "\n",
    "\n",
    "DEFAULT_SHADER = \"/opt/stbt-one-video-source/noop.frag\"\n",
    "SHADER = \"/var/opt/stbt/video-source/camera.frag\"\n",
    "SHADER_TEMPLATE = '/var/opt/stbt/video-source/stb-tester/stbt-camera.d/geo-correction.frag.jinja2'\n",
    "\n",
    "def restart_conversion():\n",
    "    import glob\n",
    "    import re\n",
    "    import os\n",
    "    import subprocess\n",
    "    import signal\n",
    "    for x in glob.glob('/proc/*/cmdline'):\n",
    "        with open(x) as f:\n",
    "            if 'glshader' in f.read().split('\\0'):\n",
    "                pid = int(re.match('/proc/(.*)/cmdline', x).group(1))\n",
    "                print \"kill %i\" % pid\n",
    "                os.kill(pid, signal.SIGTERM)\n",
    "\n",
    "\n",
    "def apply_params(params):\n",
    "    import jinja2\n",
    "    t = jinja2.Template(open(SHADER_TEMPLATE).read())\n",
    "    with open(SHADER, 'w') as out:\n",
    "        out.write(t.render(c=params))\n",
    "    restart_conversion()\n",
    "\n",
    "def reset_shader():\n",
    "    import shutil\n",
    "    shutil.copyfile(DEFAULT_SHADER, SHADER)\n",
    "    restart_conversion()\n",
    "\n",
    "\n",
    "def shell(cmd):\n",
    "    import subprocess\n",
    "    try:\n",
    "        print subprocess.check_output(cmd, shell=True, stderr=subprocess.STDOUT)\n",
    "    except subprocess.CalledProcessError as e:\n",
    "        print e.output\n",
    "        raise"
   ]
  },
  {
   "cell_type": "code",
   "execution_count": 19,
   "metadata": {
    "collapsed": false,
    "scrolled": true
   },
   "outputs": [
    {
     "ename": "UnboundLocalError",
     "evalue": "local variable 'player_id' referenced before assignment",
     "output_type": "error",
     "traceback": [
      "\u001b[1;31m---------------------------------------------------------------------------\u001b[0m",
      "\u001b[1;31mUnboundLocalError\u001b[0m                         Traceback (most recent call last)",
      "\u001b[1;32m<ipython-input-19-0d03afdf7c34>\u001b[0m in \u001b[0;36m<module>\u001b[1;34m()\u001b[0m\n\u001b[1;32m----> 1\u001b[1;33m \u001b[0mshow_video\u001b[0m\u001b[1;33m(\u001b[0m\u001b[0mvideo\u001b[0m\u001b[1;33m=\u001b[0m\u001b[1;34m\"raw\"\u001b[0m\u001b[1;33m,\u001b[0m \u001b[0msize\u001b[0m\u001b[1;33m=\u001b[0m\u001b[1;33m(\u001b[0m\u001b[1;36m1280\u001b[0m\u001b[1;33m/\u001b[0m\u001b[1;36m2\u001b[0m\u001b[1;33m,\u001b[0m\u001b[1;36m720\u001b[0m\u001b[1;33m/\u001b[0m\u001b[1;36m2\u001b[0m\u001b[1;33m)\u001b[0m\u001b[1;33m)\u001b[0m\u001b[1;33m\u001b[0m\u001b[0m\n\u001b[0m",
      "\u001b[1;32m<ipython-input-18-8cd553b5c15c>\u001b[0m in \u001b[0;36mshow_video\u001b[1;34m(video, size, self_url)\u001b[0m\n\u001b[0;32m      3\u001b[0m     \u001b[1;32mfrom\u001b[0m \u001b[0mIPython\u001b[0m\u001b[1;33m.\u001b[0m\u001b[0mdisplay\u001b[0m \u001b[1;32mimport\u001b[0m \u001b[0mHTML\u001b[0m\u001b[1;33m\u001b[0m\u001b[0m\n\u001b[0;32m      4\u001b[0m     \u001b[1;32mfrom\u001b[0m \u001b[0mtextwrap\u001b[0m \u001b[1;32mimport\u001b[0m \u001b[0mdedent\u001b[0m\u001b[1;33m\u001b[0m\u001b[0m\n\u001b[1;32m----> 5\u001b[1;33m     \u001b[0mplayer_id\u001b[0m \u001b[1;33m+=\u001b[0m \u001b[1;36m1\u001b[0m\u001b[1;33m\u001b[0m\u001b[0m\n\u001b[0m\u001b[0;32m      6\u001b[0m     html = dedent(r\"\"\"        <div id=\"player-%(player_id)i\" style=\"width: %(width)spx; height: %(height)spx\">\n\u001b[0;32m      7\u001b[0m         \u001b[1;33m<\u001b[0m\u001b[1;33m/\u001b[0m\u001b[0mdiv\u001b[0m\u001b[1;33m>\u001b[0m\u001b[1;33m\u001b[0m\u001b[0m\n",
      "\u001b[1;31mUnboundLocalError\u001b[0m: local variable 'player_id' referenced before assignment"
     ]
    }
   ],
   "source": [
    "show_video(video=\"raw\", size=(1280/2,720/2))"
   ]
  },
  {
   "cell_type": "code",
   "execution_count": 4,
   "metadata": {
    "collapsed": false
   },
   "outputs": [
    {
     "name": "stdout",
     "output_type": "stream",
     "text": [
      "kill 8\n"
     ]
    }
   ],
   "source": [
    "restart_conversion()"
   ]
  },
  {
   "cell_type": "code",
   "execution_count": 4,
   "metadata": {
    "collapsed": false
   },
   "outputs": [],
   "source": [
    "#shell(\"\"\"git -C /var/opt/stbt/video-source clone https://github.com/stb-tester/stb-tester\"\"\")\n",
    "\n",
    "def git(cmd):\n",
    "    shell(\"git -C /var/opt/stbt/video-source/stb-tester %s\" % cmd)\n",
    "\n",
    "#git(\"remote add wmanley https://github.com/wmanley/stb-tester\")\n",
    "#git(\"fetch --all\")"
   ]
  },
  {
   "cell_type": "code",
   "execution_count": 31,
   "metadata": {
    "collapsed": false
   },
   "outputs": [
    {
     "name": "stdout",
     "output_type": "stream",
     "text": [
      "From https://github.com/wmanley/stb-tester\n",
      "   a81470a..c451244  camera-opengl -> wmanley/camera-opengl\n",
      "Updating a81470a..c451244\n",
      "Fast-forward\n",
      " _stbt/gst_hacks.py | 10 +++-------\n",
      " 1 file changed, 3 insertions(+), 7 deletions(-)\n",
      "\n"
     ]
    }
   ],
   "source": [
    "#git(\"branch --set-upstream-to=wmanley/camera-opengl\")\n",
    "git(\"\"\"pull\"\"\")\n",
    "#git(\"reset --hard wmanley/camera-opengl\")"
   ]
  },
  {
   "cell_type": "code",
   "execution_count": 5,
   "metadata": {
    "collapsed": false
   },
   "outputs": [],
   "source": [
    "import sys\n",
    "sys.path.append('/var/opt/stbt/video-source/stb-tester')\n",
    "sys.path.append('/var/opt/stbt/video-source/stb-tester/stbt-camera.d')"
   ]
  },
  {
   "cell_type": "code",
   "execution_count": 6,
   "metadata": {
    "collapsed": false
   },
   "outputs": [],
   "source": [
    "import stbt\n",
    "import _stbt\n",
    "import stbt_camera_calibrate"
   ]
  },
  {
   "cell_type": "code",
   "execution_count": 11,
   "metadata": {
    "collapsed": false
   },
   "outputs": [
    {
     "name": "stdout",
     "output_type": "stream",
     "text": [
      "\n",
      "\n"
     ]
    }
   ],
   "source": [
    "import os\n",
    "reload(_stbt.tv_driver)\n",
    "os.environ['HOME'] = \"/var/opt/stbt/video-source/\"\n",
    "os.environ['STBT_VIDEO_SERVER_BASE_URL'] = 'http://192.168.1.100/calibration-videos/'\n",
    "shell(\"mkdir -p /root/.ssh && chmod 0700 /root/.ssh && cp $HOME/.ssh/* /root/.ssh\")\n",
    "shell(\"ssh -o StrictHostKeyChecking=False pi@192.168.1.206 true\")\n",
    "tv = stbt_camera_calibrate.tv_driver.create_from_description(\n",
    "    \"rpi:192.168.1.206\", stbt_camera_calibrate.videos, 'mp4')"
   ]
  },
  {
   "cell_type": "code",
   "execution_count": 21,
   "metadata": {
    "collapsed": false
   },
   "outputs": [
    {
     "name": "stdout",
     "output_type": "stream",
     "text": [
      "kill 240\n"
     ]
    },
    {
     "data": {
      "text/html": [
       "<div id=\"player-1\" style=\"width: 640px; height: 360px\">\n",
       "</div>\n",
       "\n",
       "<script src=\"https://releases.flowplayer.org/js/flowplayer-3.2.12.min.js\"></script>\n",
       "<script>\n",
       "flowplayer(\n",
       "  \"player-1\",\n",
       "  {\n",
       "    src: \"https://releases.flowplayer.org/swf/flowplayer-3.2.16.swf\",\n",
       "    wmode: \"opaque\",\n",
       "  },\n",
       "  {\n",
       "    clip: {\n",
       "      url: \"raw\",\n",
       "      provider: \"rtmp\",\n",
       "      live: true,\n",
       "      autoPlay: true,\n",
       "      bufferLength: 1,\n",
       "      scaling: 'fit',\n",
       "    },\n",
       "    plugins: {\n",
       "      rtmp: {\n",
       "        url: \"https://releases.flowplayer.org/swf/flowplayer.rtmp-3.2.12.swf\",\n",
       "        netConnectionUrl: \"rtmp://smart-tv-tester/flvplayback\",\n",
       "      },\n",
       "    },\n",
       "  });\n",
       "</script>\n"
      ],
      "text/plain": [
       "<IPython.core.display.HTML object>"
      ]
     },
     "execution_count": 21,
     "metadata": {},
     "output_type": "execute_result"
    }
   ],
   "source": [
    "tv.show('chessboard')\n",
    "reset_shader()\n",
    "show_video(video=\"raw\", size=(1280/2,720/2))"
   ]
  },
  {
   "cell_type": "code",
   "execution_count": 23,
   "metadata": {
    "collapsed": false
   },
   "outputs": [
    {
     "name": "stdout",
     "output_type": "stream",
     "text": [
      "kill 275\n"
     ]
    }
   ],
   "source": [
    "reload(stbt_camera_calibrate)\n",
    "os.environ['DBUS_SESSION_BUS_ADDRESS'] = \"unix:path=/run/dbus/system_bus_socket\"\n",
    "dut = _stbt.core.new_device_under_test_from_config(\n",
    "    \"pulsevideosrc bus-name=com.stbtester.VideoSource.raw\",\n",
    "    \"fakesink\", \"none\", False,\n",
    "    False, \"identity\")\n",
    "\n",
    "with dut:\n",
    "    params = stbt_camera_calibrate.calculate_chessboard_calibration_params(dut.get_frame())\n",
    "\n",
    "apply_params({'geometric_params': params})\n"
   ]
  },
  {
   "cell_type": "code",
   "execution_count": 24,
   "metadata": {
    "collapsed": true
   },
   "outputs": [],
   "source": [
    "tv.show('colours2')"
   ]
  }
 ],
 "metadata": {
  "kernelspec": {
   "display_name": "Python 2",
   "language": "python",
   "name": "python2"
  },
  "language_info": {
   "codemirror_mode": {
    "name": "ipython",
    "version": 2
   },
   "file_extension": ".py",
   "mimetype": "text/x-python",
   "name": "python",
   "nbconvert_exporter": "python",
   "pygments_lexer": "ipython2",
   "version": "2.7.10"
  }
 },
 "nbformat": 4,
 "nbformat_minor": 0
}
