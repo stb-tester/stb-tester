{
 "metadata": {
  "name": "",
  "signature": "sha256:9aeeabbd0b4c2d151d3c6e0e45bd3105005b8791a8129ed478a5fe48ec89ec48"
 },
 "nbformat": 3,
 "nbformat_minor": 0,
 "worksheets": [
  {
   "cells": [
    {
     "cell_type": "code",
     "collapsed": false,
     "input": [
      "import os\n",
      "import time\n",
      "\n",
      "os.environ['GST_DEBUG'] = '3'\n",
      "\n",
      "import stbt\n",
      "from _stbt import tv_driver\n",
      "from _stbt.core import DeviceUnderTest, Display\n",
      "\n",
      "import stbt_camera_calibrate"
     ],
     "language": "python",
     "metadata": {},
     "outputs": [],
     "prompt_number": 1
    },
    {
     "cell_type": "code",
     "collapsed": false,
     "input": [
      "import _stbt.core\n",
      "reload(stbt)\n",
      "reload(_stbt.core)\n",
      "from _stbt import tv_driver\n",
      "from _stbt.core import DeviceUnderTest, Display\n",
      "reload(stbt_camera_calibrate)\n",
      "\n",
      "device_a = {\n",
      "    \"devpath\": \"/dev/v4l/by-id/usb-046d_HD_Pro_Webcam_C920_C833389F-video-index0\",\n",
      "    \"ctls\": \"focus_absolute=33,exposure_absolute=169,gain=60\",\n",
      "    \"name\": \"top\",\n",
      "    \"index\": 0,\n",
      "}\n",
      "device_b = {\n",
      "    \"devpath\": \"/dev/v4l/by-id/usb-046d_HD_Pro_Webcam_C920_CF6AA82F-video-index0\",\n",
      "    \"ctls\": \"focus_absolute=40,exposure_absolute=295,gain=150\",\n",
      "    \"name\": \"bottom\",\n",
      "    \"index\": 1,\n",
      "}\n",
      "\n",
      "DEFAULT_CTRLS = (\n",
      "    'brightness=128,contrast=128,saturation=128,'\n",
      "    'white_balance_temperature_auto=0,white_balance_temperature=6500,'\n",
      "    'backlight_compensation=0,exposure_auto=1,'\n",
      "    'focus_auto=0,power_line_frequency=1')\n",
      "\n",
      "SOURCE_PIPELINE_TEMPLATE = (\n",
      "    \"v4l2src device=%(devpath)s extra-controls=\\\"ctrls, %(v4l2_ctls)s\\\" \"\n",
      "    \"! video/x-h264,width=1920 ! vaapidecode ! vaapipostproc ! glupload ! queue ! tee name=raw_undistorted ! queue \"\n",
      "    \"! glshader name=geometric_correction \"\n",
      "    \"           location=%(camera_prefix)s/geometric-correction.frag \"\n",
      "    \"           vars=\\\"%(geometriccorrection_params)s\\\" \"\n",
      "    \"! gldownload\"\n",
      "    \"! video/x-raw,format=RGBA,width=1280,height=720\"\n",
      "    \"! identity name=out \"\n",
      "    \"raw_undistorted. ! queue ! glimagesink sync=false \"\n",
      "    \"raw_undistorted. ! queue leaky=upstream max-size-buffers=1 ! gldownload ! videoconvert ! appsink drop=false sync=false qos=false\"\n",
      "    \"    max-buffers=1 caps=\\\"video/x-raw,format=BGR\\\" \"\n",
      "    \"    name=undistorted_appsink \"\n",
      "    \"out.\"\n",
      ")\n",
      "\n",
      "GEOMETRIC_CORRECTION_DEFAULTS = {\n",
      "    \"fx\": 1.0,\n",
      "    \"fy\": 1.0,\n",
      "    \"cx\": 0.0,\n",
      "    \"cy\": 0.0,\n",
      "    \"k1\": 0.0,\n",
      "    \"k2\": 0.0,\n",
      "    \"p1\": 0.0,\n",
      "    \"p2\": 0.0,\n",
      "    \"k3\": 0.0,\n",
      "    \"ihm11\": 1.0,\n",
      "    \"ihm12\": 0.0,\n",
      "    \"ihm13\": 0.0,\n",
      "    \"ihm21\": 0.0,\n",
      "    \"ihm22\": 1.0,\n",
      "    \"ihm23\": 0.0,\n",
      "    \"ihm31\": 0.0,\n",
      "    \"ihm32\": 0.0,\n",
      "    \"ihm33\": 1.0,\n",
      "}\n",
      "\n",
      "\n",
      "def device_to_dut(device):\n",
      "    d = dict(device)\n",
      "    d[\"camera_prefix\"] = os.path.abspath(os.curdir)\n",
      "    geo_params = GEOMETRIC_CORRECTION_DEFAULTS\n",
      "    geo_params.update(d.get(\"geometric_params\", {}))\n",
      "    d[\"geometric_params\"] = geo_params\n",
      "    d[\"geometriccorrection_params\"] = \"\".join(\n",
      "        \"float %s = float(%f);\" % (k, v) for k, v in geo_params.items())\n",
      "    d[\"v4l2_ctls\"] = DEFAULT_CTRLS + \",\" + d['ctls']\n",
      "\n",
      "    display = Display(\n",
      "        SOURCE_PIPELINE_TEMPLATE % d,\n",
      "        \"textoverlay text=\\\"Camera %(name)s\\\" ! xvimagesink sync=false\" % d,\n",
      "        _stbt.core._mainloop())\n",
      "    return DeviceUnderTest(display)\n",
      "\n",
      "#with device_to_dut(device_b) as dut:\n",
      "#    stbt._dut = dut\n",
      "#    raw_input()\n",
      "#    stbt._dut = None"
     ],
     "language": "python",
     "metadata": {},
     "outputs": [],
     "prompt_number": 2
    },
    {
     "cell_type": "code",
     "collapsed": false,
     "input": [
      "reload(stbt_camera_calibrate)\n",
      "\n",
      "for device in [device_a, device_b]:\n",
      "    with device_to_dut(device) as dut:\n",
      "        stbt._dut = dut\n",
      "        #raw_input()\n",
      "        params = stbt_camera_calibrate.geometric_calibration(\n",
      "            tv=_stbt.tv_driver.create_from_args(\"adb\", stbt_camera_calibrate.videos),\n",
      "            device=device['devpath'])\n",
      "        device[\"geometric_params\"] = params\n",
      "        preset_fragment = \"\".join(\n",
      "            \"float %s = float(%.15f);\" % x for x in params.items())\n",
      "        \n",
      "        stbt._dut = None"
     ],
     "language": "python",
     "metadata": {},
     "outputs": [
      {
       "output_type": "stream",
       "stream": "stderr",
       "text": [
        "Searching for chessboard\n",
        "\u001b[1mGeometric Calibration Report:\n",
        "\u001b[0m\n",
        "    Legend:\n",
        "        \u001b[92mO\u001b[0m - Pixel perfect\n",
        "        \u001b[93m\u2197\u001b[0m - Off by up-to 5 pixels\n",
        "        \u001b[91m\u2197\u001b[0m - Off by more than 5 pixels\n",
        "\n"
       ]
      },
      {
       "output_type": "stream",
       "stream": "stdout",
       "text": [
        "Performing Geometric Calibration\n",
        "                     brightness (int)    : min=0 max=255 step=1 default=128 value=128\n",
        "                       contrast (int)    : min=0 max=255 step=1 default=128 value=128\n",
        "                     saturation (int)    : min=0 max=255 step=1 default=128 value=128\n",
        " white_balance_temperature_auto (bool)   : default=1 value=0\n",
        "                           gain (int)    : min=0 max=255 step=1 default=0 value=60\n",
        "           power_line_frequency (menu)   : min=0 max=2 default=2 value=1\n",
        "\t\t\t\t0: Disabled\n",
        "\t\t\t\t1: 50 Hz\n",
        "\t\t\t\t2: 60 Hz\n",
        "      white_balance_temperature (int)    : min=2000 max=6500 step=1 default=4000 value=6500\n",
        "                      sharpness (int)    : min=0 max=255 step=1 default=128 value=128\n",
        "         backlight_compensation (int)    : min=0 max=1 step=1 default=0 value=0\n",
        "                  exposure_auto (menu)   : min=0 max=3 default=3 value=1\n",
        "\t\t\t\t1: Manual Mode\n",
        "\t\t\t\t3: Aperture Priority Mode\n",
        "              exposure_absolute (int)    : min=3 max=2047 step=1 default=250 value=169\n",
        "         exposure_auto_priority (bool)   : default=0 value=1\n",
        "                   pan_absolute (int)    : min=-36000 max=36000 step=3600 default=0 value=0\n",
        "                  tilt_absolute (int)    : min=-36000 max=36000 step=3600 default=0 value=0\n",
        "                 focus_absolute (int)    : min=0 max=250 step=5 default=0 value=35\n",
        "                     focus_auto (bool)   : default=1 value=0\n",
        "                  zoom_absolute (int)    : min=100 max=500 step=1 default=100 value=100\n",
        "                      led1_mode (menu)   : min=0 max=3 default=0 value=3\n",
        "\t\t\t\t0: Off\n",
        "\t\t\t\t1: On\n",
        "\t\t\t\t2: Blink\n",
        "\t\t\t\t3: Auto\n",
        "                 led1_frequency (int)    : min=0 max=255 step=1 default=0 value=0\n"
       ]
      },
      {
       "output_type": "stream",
       "stream": "stderr",
       "text": [
        "\u001b[92mO\u001b[92mO\u001b[92mO\u001b[92mO\u001b[92mO\u001b[92mO\u001b[92mO\u001b[92mO\u001b[92mO\u001b[92mO\u001b[92mO\u001b[92mO\u001b[92mO\u001b[92mO\u001b[92mO\u001b[92mO\u001b[92mO\u001b[92mO\u001b[92mO\u001b[92mO\u001b[92mO\u001b[92mO\u001b[92mO\u001b[92mO\u001b[92mO\u001b[92mO\u001b[92mO\u001b[92mO\u001b[92mO\n",
        "\u001b[92mO\u001b[92mO\u001b[92mO\u001b[92mO\u001b[92mO\u001b[92mO\u001b[92mO\u001b[92mO\u001b[92mO\u001b[92mO\u001b[92mO\u001b[92mO\u001b[92mO\u001b[92mO\u001b[92mO\u001b[92mO\u001b[92mO\u001b[92mO\u001b[92mO\u001b[92mO\u001b[92mO\u001b[92mO\u001b[92mO\u001b[92mO\u001b[92mO\u001b[92mO\u001b[92mO\u001b[92mO\u001b[92mO\n",
        "\u001b[92mO\u001b[92mO\u001b[92mO\u001b[92mO\u001b[92mO\u001b[92mO\u001b[92mO\u001b[92mO\u001b[92mO\u001b[92mO\u001b[92mO\u001b[92mO\u001b[92mO\u001b[92mO\u001b[92mO\u001b[92mO\u001b[92mO\u001b[92mO\u001b[92mO\u001b[92mO\u001b[92mO\u001b[92mO\u001b[92mO\u001b[92mO\u001b[92mO\u001b[92mO\u001b[92mO\u001b[92mO\u001b[92mO\n",
        "\u001b[92mO\u001b[92mO\u001b[92mO\u001b[92mO\u001b[92mO\u001b[92mO\u001b[92mO\u001b[92mO\u001b[92mO\u001b[92mO\u001b[92mO\u001b[92mO\u001b[92mO\u001b[92mO\u001b[92mO\u001b[92mO\u001b[92mO\u001b[92mO\u001b[92mO\u001b[92mO\u001b[92mO\u001b[92mO\u001b[92mO\u001b[92mO\u001b[92mO\u001b[92mO\u001b[92mO\u001b[92mO\u001b[92mO\n",
        "\u001b[92mO\u001b[92mO\u001b[92mO\u001b[92mO\u001b[92mO\u001b[92mO\u001b[92mO\u001b[92mO\u001b[92mO\u001b[92mO\u001b[92mO\u001b[92mO\u001b[92mO\u001b[92mO\u001b[92mO\u001b[92mO\u001b[92mO\u001b[92mO\u001b[92mO\u001b[92mO\u001b[92mO\u001b[92mO\u001b[92mO\u001b[92mO\u001b[92mO\u001b[92mO\u001b[92mO\u001b[92mO\u001b[92mO\n",
        "\u001b[92mO\u001b[92mO\u001b[92mO\u001b[92mO\u001b[92mO\u001b[92mO\u001b[92mO\u001b[92mO\u001b[92mO\u001b[92mO\u001b[92mO\u001b[92mO\u001b[92mO\u001b[92mO\u001b[92mO\u001b[92mO\u001b[92mO\u001b[92mO\u001b[92mO\u001b[92mO\u001b[92mO\u001b[92mO\u001b[92mO\u001b[92mO\u001b[92mO\u001b[92mO\u001b[92mO\u001b[92mO\u001b[92mO\n",
        "\u001b[92mO\u001b[92mO\u001b[92mO\u001b[92mO\u001b[92mO\u001b[92mO\u001b[92mO\u001b[92mO\u001b[92mO\u001b[92mO\u001b[92mO\u001b[92mO\u001b[92mO\u001b[92mO\u001b[92mO\u001b[92mO\u001b[92mO\u001b[92mO\u001b[92mO\u001b[92mO\u001b[92mO\u001b[92mO\u001b[92mO\u001b[92mO\u001b[92mO\u001b[92mO\u001b[92mO\u001b[92mO\u001b[92mO\n",
        "\u001b[92mO\u001b[92mO\u001b[92mO\u001b[92mO\u001b[92mO\u001b[92mO\u001b[92mO\u001b[92mO\u001b[92mO\u001b[92mO\u001b[92mO\u001b[92mO\u001b[92mO\u001b[92mO\u001b[92mO\u001b[92mO\u001b[92mO\u001b[92mO\u001b[92mO\u001b[92mO\u001b[92mO\u001b[92mO\u001b[92mO\u001b[92mO\u001b[92mO\u001b[92mO\u001b[92mO\u001b[92mO\u001b[92mO\n",
        "\u001b[92mO\u001b[92mO\u001b[92mO\u001b[92mO\u001b[92mO\u001b[92mO\u001b[92mO\u001b[92mO\u001b[92mO\u001b[92mO\u001b[92mO\u001b[92mO\u001b[92mO\u001b[92mO\u001b[92mO\u001b[92mO\u001b[92mO\u001b[92mO\u001b[92mO\u001b[92mO\u001b[92mO\u001b[92mO\u001b[92mO\u001b[92mO\u001b[92mO\u001b[92mO\u001b[92mO\u001b[92mO\u001b[92mO\n",
        "\u001b[92mO\u001b[92mO\u001b[92mO\u001b[92mO\u001b[92mO\u001b[92mO\u001b[92mO\u001b[92mO\u001b[92mO\u001b[92mO\u001b[92mO\u001b[92mO\u001b[92mO\u001b[92mO\u001b[92mO\u001b[92mO\u001b[92mO\u001b[92mO\u001b[92mO\u001b[92mO\u001b[92mO\u001b[92mO\u001b[92mO\u001b[92mO\u001b[92mO\u001b[92mO\u001b[92mO\u001b[92mO\u001b[92mO\n",
        "\u001b[92mO\u001b[92mO\u001b[92mO\u001b[92mO\u001b[92mO\u001b[92mO\u001b[92mO\u001b[92mO\u001b[92mO\u001b[92mO\u001b[92mO\u001b[92mO\u001b[92mO\u001b[92mO\u001b[92mO\u001b[92mO\u001b[92mO\u001b[92mO\u001b[92mO\u001b[92mO\u001b[92mO\u001b[92mO\u001b[92mO\u001b[92mO\u001b[92mO\u001b[92mO\u001b[92mO\u001b[92mO\u001b[92mO\n",
        "\u001b[92mO\u001b[92mO\u001b[92mO\u001b[92mO\u001b[92mO\u001b[92mO\u001b[92mO\u001b[92mO\u001b[92mO\u001b[92mO\u001b[92mO\u001b[92mO\u001b[92mO\u001b[92mO\u001b[92mO\u001b[92mO\u001b[92mO\u001b[92mO\u001b[92mO\u001b[92mO\u001b[92mO\u001b[92mO\u001b[92mO\u001b[92mO\u001b[92mO\u001b[92mO\u001b[92mO\u001b[92mO\u001b[92mO\n",
        "\u001b[92mO\u001b[92mO\u001b[92mO\u001b[92mO\u001b[92mO\u001b[92mO\u001b[92mO\u001b[92mO\u001b[92mO\u001b[92mO\u001b[92mO\u001b[92mO\u001b[92mO\u001b[92mO\u001b[92mO\u001b[92mO\u001b[92mO\u001b[92mO\u001b[92mO\u001b[92mO\u001b[92mO\u001b[92mO\u001b[92mO\u001b[92mO\u001b[92mO\u001b[92mO\u001b[92mO\u001b[92mO\u001b[92mO\n",
        "\u001b[92mO\u001b[92mO\u001b[92mO\u001b[92mO\u001b[92mO\u001b[92mO\u001b[92mO\u001b[92mO\u001b[92mO\u001b[92mO\u001b[92mO\u001b[92mO\u001b[92mO\u001b[92mO\u001b[92mO\u001b[92mO\u001b[92mO\u001b[92mO\u001b[92mO\u001b[92mO\u001b[92mO\u001b[92mO\u001b[92mO\u001b[92mO\u001b[92mO\u001b[92mO\u001b[92mO\u001b[92mO\u001b[92mO\n",
        "\u001b[93m\u2197\u001b[92mO\u001b[92mO\u001b[92mO\u001b[92mO\u001b[92mO\u001b[92mO\u001b[92mO\u001b[92mO\u001b[92mO\u001b[92mO\u001b[92mO\u001b[92mO\u001b[92mO\u001b[92mO\u001b[92mO\u001b[92mO\u001b[92mO\u001b[92mO\u001b[92mO\u001b[92mO\u001b[92mO\u001b[92mO\u001b[92mO\u001b[92mO\u001b[92mO\u001b[92mO\u001b[92mO\u001b[92mO\n",
        "\u001b[0m"
       ]
      },
      {
       "output_type": "stream",
       "stream": "stdout",
       "text": [
        "\n"
       ]
      },
      {
       "name": "stdout",
       "output_type": "stream",
       "stream": "stdout",
       "text": [
        "Happy? [Y/n/set] set exposure_absolute 150\n"
       ]
      },
      {
       "output_type": "stream",
       "stream": "stderr",
       "text": [
        "Searching for chessboard\n",
        "\u001b[1mGeometric Calibration Report:\n",
        "\u001b[0m\n",
        "    Legend:\n",
        "        \u001b[92mO\u001b[0m - Pixel perfect\n",
        "        \u001b[93m\u2197\u001b[0m - Off by up-to 5 pixels\n",
        "        \u001b[91m\u2197\u001b[0m - Off by more than 5 pixels\n",
        "\n"
       ]
      },
      {
       "output_type": "stream",
       "stream": "stderr",
       "text": [
        "\u001b[92mO\u001b[92mO\u001b[92mO\u001b[92mO\u001b[92mO\u001b[92mO\u001b[92mO\u001b[92mO\u001b[92mO\u001b[92mO\u001b[92mO\u001b[92mO\u001b[92mO\u001b[92mO\u001b[92mO\u001b[92mO\u001b[92mO\u001b[92mO\u001b[92mO\u001b[92mO\u001b[92mO\u001b[92mO\u001b[92mO\u001b[92mO\u001b[92mO\u001b[92mO\u001b[92mO\u001b[92mO\u001b[92mO\n",
        "\u001b[92mO\u001b[92mO\u001b[92mO\u001b[92mO\u001b[92mO\u001b[92mO\u001b[92mO\u001b[92mO\u001b[92mO\u001b[92mO\u001b[92mO\u001b[92mO\u001b[92mO\u001b[92mO\u001b[92mO\u001b[92mO\u001b[92mO\u001b[92mO\u001b[92mO\u001b[92mO\u001b[92mO\u001b[92mO\u001b[92mO\u001b[92mO\u001b[92mO\u001b[92mO\u001b[92mO\u001b[92mO\u001b[92mO\n",
        "\u001b[92mO\u001b[92mO\u001b[92mO\u001b[92mO\u001b[92mO\u001b[92mO\u001b[92mO\u001b[92mO\u001b[92mO\u001b[92mO\u001b[92mO\u001b[92mO\u001b[92mO\u001b[92mO\u001b[92mO\u001b[92mO\u001b[92mO\u001b[92mO\u001b[92mO\u001b[92mO\u001b[92mO\u001b[92mO\u001b[92mO\u001b[92mO\u001b[92mO\u001b[92mO\u001b[92mO\u001b[92mO\u001b[92mO\n",
        "\u001b[92mO\u001b[92mO\u001b[92mO\u001b[92mO\u001b[92mO\u001b[92mO\u001b[92mO\u001b[92mO\u001b[92mO\u001b[92mO\u001b[92mO\u001b[92mO\u001b[92mO\u001b[92mO\u001b[92mO\u001b[92mO\u001b[92mO\u001b[92mO\u001b[92mO\u001b[92mO\u001b[92mO\u001b[92mO\u001b[92mO\u001b[92mO\u001b[92mO\u001b[92mO\u001b[92mO\u001b[92mO\u001b[92mO\n",
        "\u001b[92mO\u001b[92mO\u001b[92mO\u001b[92mO\u001b[92mO\u001b[92mO\u001b[92mO\u001b[92mO\u001b[92mO\u001b[92mO\u001b[92mO\u001b[92mO\u001b[92mO\u001b[92mO\u001b[92mO\u001b[92mO\u001b[92mO\u001b[92mO\u001b[92mO\u001b[92mO\u001b[92mO\u001b[92mO\u001b[92mO\u001b[92mO\u001b[92mO\u001b[92mO\u001b[92mO\u001b[92mO\u001b[92mO\n",
        "\u001b[92mO\u001b[92mO\u001b[92mO\u001b[92mO\u001b[92mO\u001b[92mO\u001b[92mO\u001b[92mO\u001b[92mO\u001b[92mO\u001b[92mO\u001b[92mO\u001b[92mO\u001b[92mO\u001b[92mO\u001b[92mO\u001b[92mO\u001b[92mO\u001b[92mO\u001b[92mO\u001b[92mO\u001b[92mO\u001b[92mO\u001b[92mO\u001b[92mO\u001b[92mO\u001b[92mO\u001b[92mO\u001b[92mO\n",
        "\u001b[92mO\u001b[92mO\u001b[92mO\u001b[92mO\u001b[92mO\u001b[92mO\u001b[92mO\u001b[92mO\u001b[92mO\u001b[92mO\u001b[92mO\u001b[92mO\u001b[92mO\u001b[92mO\u001b[92mO\u001b[92mO\u001b[92mO\u001b[92mO\u001b[92mO\u001b[92mO\u001b[92mO\u001b[92mO\u001b[92mO\u001b[92mO\u001b[92mO\u001b[92mO\u001b[92mO\u001b[92mO\u001b[92mO\n",
        "\u001b[92mO\u001b[92mO\u001b[92mO\u001b[92mO\u001b[92mO\u001b[92mO\u001b[92mO\u001b[92mO\u001b[92mO\u001b[92mO\u001b[92mO\u001b[92mO\u001b[92mO\u001b[92mO\u001b[92mO\u001b[92mO\u001b[92mO\u001b[92mO\u001b[92mO\u001b[92mO\u001b[92mO\u001b[92mO\u001b[92mO\u001b[92mO\u001b[92mO\u001b[92mO\u001b[92mO\u001b[92mO\u001b[92mO\n",
        "\u001b[92mO\u001b[92mO\u001b[92mO\u001b[92mO\u001b[92mO\u001b[92mO\u001b[92mO\u001b[92mO\u001b[92mO\u001b[92mO\u001b[92mO\u001b[92mO\u001b[92mO\u001b[92mO\u001b[92mO\u001b[92mO\u001b[92mO\u001b[92mO\u001b[92mO\u001b[92mO\u001b[92mO\u001b[92mO\u001b[92mO\u001b[92mO\u001b[92mO\u001b[92mO\u001b[92mO\u001b[92mO\u001b[92mO\n",
        "\u001b[92mO\u001b[92mO\u001b[92mO\u001b[92mO\u001b[92mO\u001b[92mO\u001b[92mO\u001b[92mO\u001b[92mO\u001b[92mO\u001b[92mO\u001b[92mO\u001b[92mO\u001b[92mO\u001b[92mO\u001b[92mO\u001b[92mO\u001b[92mO\u001b[92mO\u001b[92mO\u001b[92mO\u001b[92mO\u001b[92mO\u001b[92mO\u001b[92mO\u001b[92mO\u001b[92mO\u001b[92mO\u001b[92mO\n",
        "\u001b[92mO\u001b[92mO\u001b[92mO\u001b[92mO\u001b[92mO\u001b[92mO\u001b[92mO\u001b[92mO\u001b[92mO\u001b[92mO\u001b[92mO\u001b[92mO\u001b[92mO\u001b[92mO\u001b[92mO\u001b[92mO\u001b[92mO\u001b[92mO\u001b[92mO\u001b[92mO\u001b[92mO\u001b[92mO\u001b[92mO\u001b[92mO\u001b[92mO\u001b[92mO\u001b[92mO\u001b[92mO\u001b[92mO\n",
        "\u001b[92mO\u001b[92mO\u001b[92mO\u001b[92mO\u001b[92mO\u001b[92mO\u001b[92mO\u001b[92mO\u001b[92mO\u001b[92mO\u001b[92mO\u001b[92mO\u001b[92mO\u001b[92mO\u001b[92mO\u001b[92mO\u001b[92mO\u001b[92mO\u001b[92mO\u001b[92mO\u001b[92mO\u001b[92mO\u001b[92mO\u001b[92mO\u001b[92mO\u001b[92mO\u001b[92mO\u001b[92mO\u001b[92mO\n",
        "\u001b[92mO\u001b[92mO\u001b[92mO\u001b[92mO\u001b[92mO\u001b[92mO\u001b[92mO\u001b[92mO\u001b[92mO\u001b[92mO\u001b[92mO\u001b[92mO\u001b[92mO\u001b[92mO\u001b[92mO\u001b[92mO\u001b[92mO\u001b[92mO\u001b[92mO\u001b[92mO\u001b[92mO\u001b[92mO\u001b[92mO\u001b[92mO\u001b[92mO\u001b[92mO\u001b[92mO\u001b[92mO\u001b[92mO\n",
        "\u001b[92mO\u001b[92mO\u001b[92mO\u001b[92mO\u001b[92mO\u001b[92mO\u001b[92mO\u001b[92mO\u001b[92mO\u001b[92mO\u001b[92mO\u001b[92mO\u001b[92mO\u001b[92mO\u001b[92mO\u001b[92mO\u001b[92mO\u001b[92mO\u001b[92mO\u001b[92mO\u001b[92mO\u001b[92mO\u001b[92mO\u001b[92mO\u001b[92mO\u001b[92mO\u001b[92mO\u001b[93m\u2198\u001b[92mO\n",
        "\u001b[93m\u2197\u001b[92mO\u001b[92mO\u001b[92mO\u001b[92mO\u001b[92mO\u001b[92mO\u001b[92mO\u001b[92mO\u001b[92mO\u001b[92mO\u001b[92mO\u001b[92mO\u001b[92mO\u001b[92mO\u001b[92mO\u001b[92mO\u001b[92mO\u001b[92mO\u001b[92mO\u001b[92mO\u001b[92mO\u001b[92mO\u001b[92mO\u001b[92mO\u001b[92mO\u001b[92mO\u001b[92mO\u001b[92mO\n",
        "\u001b[0m"
       ]
      },
      {
       "output_type": "stream",
       "stream": "stdout",
       "text": [
        "                     brightness (int)    : min=0 max=255 step=1 default=128 value=128\n",
        "                       contrast (int)    : min=0 max=255 step=1 default=128 value=128\n",
        "                     saturation (int)    : min=0 max=255 step=1 default=128 value=128\n",
        " white_balance_temperature_auto (bool)   : default=1 value=0\n",
        "                           gain (int)    : min=0 max=255 step=1 default=0 value=60\n",
        "           power_line_frequency (menu)   : min=0 max=2 default=2 value=1\n",
        "\t\t\t\t0: Disabled\n",
        "\t\t\t\t1: 50 Hz\n",
        "\t\t\t\t2: 60 Hz\n",
        "      white_balance_temperature (int)    : min=2000 max=6500 step=1 default=4000 value=6500\n",
        "                      sharpness (int)    : min=0 max=255 step=1 default=128 value=128\n",
        "         backlight_compensation (int)    : min=0 max=1 step=1 default=0 value=0\n",
        "                  exposure_auto (menu)   : min=0 max=3 default=3 value=1\n",
        "\t\t\t\t1: Manual Mode\n",
        "\t\t\t\t3: Aperture Priority Mode\n",
        "              exposure_absolute (int)    : min=3 max=2047 step=1 default=250 value=150\n",
        "         exposure_auto_priority (bool)   : default=0 value=1\n",
        "                   pan_absolute (int)    : min=-36000 max=36000 step=3600 default=0 value=0\n",
        "                  tilt_absolute (int)    : min=-36000 max=36000 step=3600 default=0 value=0\n",
        "                 focus_absolute (int)    : min=0 max=250 step=5 default=0 value=35\n",
        "                     focus_auto (bool)   : default=1 value=0\n",
        "                  zoom_absolute (int)    : min=100 max=500 step=1 default=100 value=100\n",
        "                      led1_mode (menu)   : min=0 max=3 default=0 value=3\n",
        "\t\t\t\t0: Off\n",
        "\t\t\t\t1: On\n",
        "\t\t\t\t2: Blink\n",
        "\t\t\t\t3: Auto\n",
        "                 led1_frequency (int)    : min=0 max=255 step=1 default=0 value=0\n",
        "\n"
       ]
      },
      {
       "name": "stdout",
       "output_type": "stream",
       "stream": "stdout",
       "text": [
        "Happy? [Y/n/set] \n"
       ]
      },
      {
       "output_type": "stream",
       "stream": "stderr",
       "text": [
        "Searching for chessboard\n",
        "\u001b[1mGeometric Calibration Report:\n",
        "\u001b[0m\n",
        "    Legend:\n",
        "        \u001b[92mO\u001b[0m - Pixel perfect\n",
        "        \u001b[93m\u2197\u001b[0m - Off by up-to 5 pixels\n",
        "        \u001b[91m\u2197\u001b[0m - Off by more than 5 pixels\n",
        "\n"
       ]
      },
      {
       "output_type": "stream",
       "stream": "stdout",
       "text": [
        "Performing Geometric Calibration\n",
        "                     brightness (int)    : min=0 max=255 step=1 default=128 value=128\n",
        "                       contrast (int)    : min=0 max=255 step=1 default=128 value=128\n",
        "                     saturation (int)    : min=0 max=255 step=1 default=128 value=128\n",
        " white_balance_temperature_auto (bool)   : default=1 value=0\n",
        "                           gain (int)    : min=0 max=255 step=1 default=0 value=149\n",
        "           power_line_frequency (menu)   : min=0 max=2 default=2 value=1\n",
        "\t\t\t\t0: Disabled\n",
        "\t\t\t\t1: 50 Hz\n",
        "\t\t\t\t2: 60 Hz\n",
        "      white_balance_temperature (int)    : min=2000 max=6500 step=1 default=4000 value=6500\n",
        "                      sharpness (int)    : min=0 max=255 step=1 default=128 value=128\n",
        "         backlight_compensation (int)    : min=0 max=1 step=1 default=0 value=0\n",
        "                  exposure_auto (menu)   : min=0 max=3 default=3 value=1\n",
        "\t\t\t\t1: Manual Mode\n",
        "\t\t\t\t3: Aperture Priority Mode\n",
        "              exposure_absolute (int)    : min=3 max=2047 step=1 default=250 value=295\n",
        "         exposure_auto_priority (bool)   : default=0 value=1\n",
        "                   pan_absolute (int)    : min=-36000 max=36000 step=3600 default=0 value=0\n",
        "                  tilt_absolute (int)    : min=-36000 max=36000 step=3600 default=0 value=0\n",
        "                 focus_absolute (int)    : min=0 max=250 step=5 default=0 value=40\n",
        "                     focus_auto (bool)   : default=1 value=0\n",
        "                  zoom_absolute (int)    : min=100 max=500 step=1 default=100 value=100\n",
        "                      led1_mode (menu)   : min=0 max=3 default=0 value=3\n",
        "\t\t\t\t0: Off\n",
        "\t\t\t\t1: On\n",
        "\t\t\t\t2: Blink\n",
        "\t\t\t\t3: Auto\n",
        "                 led1_frequency (int)    : min=0 max=255 step=1 default=0 value=0\n"
       ]
      },
      {
       "output_type": "stream",
       "stream": "stderr",
       "text": [
        "\u001b[92mO\u001b[93m\u2199\u001b[92mO\u001b[93m\u2193\u001b[92mO\u001b[92mO\u001b[93m\u2192\u001b[93m\u2199\u001b[92mO\u001b[93m\u2199\u001b[92mO\u001b[93m\u2199\u001b[92mO\u001b[92mO\u001b[93m\u2192\u001b[93m\u2193\u001b[93m\u2191\u001b[93m\u2193\u001b[93m\u2191\u001b[93m\u2193\u001b[93m\u2191\u001b[93m\u2193\u001b[93m\u2191\u001b[93m\u2193\u001b[93m\u2191\u001b[93m\u2198\u001b[93m\u2191\u001b[93m\u2198\u001b[93m\u2191\n",
        "\u001b[93m\u2199\u001b[92mO\u001b[93m\u2193\u001b[92mO\u001b[93m\u2199\u001b[93m\u2192\u001b[93m\u2199\u001b[93m\u2192\u001b[93m\u2199\u001b[92mO\u001b[92mO\u001b[92mO\u001b[93m\u2190\u001b[93m\u2197\u001b[92mO\u001b[93m\u2191\u001b[92mO\u001b[93m\u2197\u001b[93m\u2193\u001b[93m\u2191\u001b[93m\u2193\u001b[93m\u2191\u001b[93m\u2193\u001b[93m\u2191\u001b[93m\u2193\u001b[93m\u2191\u001b[93m\u2193\u001b[93m\u2191\u001b[93m\u2193\n",
        "\u001b[93m\u2196\u001b[93m\u2193\u001b[93m\u2192\u001b[92mO\u001b[92mO\u001b[92mO\u001b[92mO\u001b[92mO\u001b[92mO\u001b[93m\u2190\u001b[92mO\u001b[92mO\u001b[92mO\u001b[92mO\u001b[93m\u2197\u001b[92mO\u001b[93m\u2191\u001b[92mO\u001b[93m\u2191\u001b[93m\u2193\u001b[93m\u2191\u001b[93m\u2193\u001b[93m\u2191\u001b[93m\u2193\u001b[93m\u2191\u001b[93m\u2193\u001b[93m\u2191\u001b[93m\u2193\u001b[93m\u2191\n",
        "\u001b[93m\u2193\u001b[92mO\u001b[92mO\u001b[93m\u2192\u001b[92mO\u001b[92mO\u001b[93m\u2199\u001b[92mO\u001b[93m\u2190\u001b[92mO\u001b[93m\u2190\u001b[92mO\u001b[92mO\u001b[93m\u2191\u001b[92mO\u001b[93m\u2197\u001b[92mO\u001b[93m\u2191\u001b[93m\u2193\u001b[93m\u2191\u001b[93m\u2193\u001b[93m\u2191\u001b[93m\u2193\u001b[93m\u2191\u001b[93m\u2193\u001b[93m\u2192\u001b[93m\u2193\u001b[91m\u2192\u001b[93m\u2193\n",
        "\u001b[93m\u2196\u001b[93m\u2199\u001b[92mO\u001b[93m\u2199\u001b[92mO\u001b[92mO\u001b[92mO\u001b[93m\u2190\u001b[92mO\u001b[92mO\u001b[92mO\u001b[93m\u2190\u001b[92mO\u001b[92mO\u001b[92mO\u001b[92mO\u001b[93m\u2197\u001b[93m\u2193\u001b[93m\u2191\u001b[93m\u2193\u001b[93m\u2191\u001b[93m\u2193\u001b[93m\u2191\u001b[93m\u2193\u001b[93m\u2191\u001b[93m\u2193\u001b[93m\u2191\u001b[93m\u2199\u001b[93m\u2196\n",
        "\u001b[93m\u2199\u001b[92mO\u001b[92mO\u001b[92mO\u001b[92mO\u001b[92mO\u001b[92mO\u001b[92mO\u001b[92mO\u001b[92mO\u001b[92mO\u001b[92mO\u001b[92mO\u001b[92mO\u001b[92mO\u001b[93m\u2197\u001b[92mO\u001b[93m\u2191\u001b[93m\u2193\u001b[93m\u2191\u001b[93m\u2193\u001b[93m\u2191\u001b[93m\u2193\u001b[93m\u2191\u001b[93m\u2193\u001b[93m\u2191\u001b[93m\u2193\u001b[93m\u2196\u001b[93m\u2199\n",
        "\u001b[93m\u2196\u001b[93m\u2193\u001b[93m\u2192\u001b[93m\u2199\u001b[93m\u2192\u001b[92mO\u001b[93m\u2192\u001b[92mO\u001b[92mO\u001b[92mO\u001b[92mO\u001b[93m\u2190\u001b[92mO\u001b[92mO\u001b[92mO\u001b[92mO\u001b[93m\u2191\u001b[93m\u2193\u001b[93m\u2191\u001b[93m\u2193\u001b[93m\u2191\u001b[93m\u2193\u001b[93m\u2191\u001b[93m\u2193\u001b[93m\u2191\u001b[93m\u2193\u001b[93m\u2196\u001b[93m\u2199\u001b[93m\u2196\n",
        "\u001b[93m\u2199\u001b[93m\u2191\u001b[92mO\u001b[92mO\u001b[92mO\u001b[92mO\u001b[92mO\u001b[92mO\u001b[92mO\u001b[92mO\u001b[92mO\u001b[92mO\u001b[92mO\u001b[92mO\u001b[92mO\u001b[92mO\u001b[93m\u2193\u001b[93m\u2191\u001b[93m\u2193\u001b[93m\u2191\u001b[93m\u2193\u001b[93m\u2191\u001b[93m\u2193\u001b[93m\u2191\u001b[93m\u2199\u001b[93m\u2192\u001b[93m\u2199\u001b[93m\u2196\u001b[93m\u2199\n",
        "\u001b[93m\u2191\u001b[92mO\u001b[93m\u2191\u001b[92mO\u001b[92mO\u001b[92mO\u001b[92mO\u001b[92mO\u001b[92mO\u001b[92mO\u001b[92mO\u001b[92mO\u001b[92mO\u001b[92mO\u001b[93m\u2192\u001b[93m\u2193\u001b[93m\u2191\u001b[93m\u2193\u001b[93m\u2191\u001b[93m\u2193\u001b[93m\u2191\u001b[93m\u2193\u001b[93m\u2191\u001b[93m\u2193\u001b[93m\u2196\u001b[93m\u2199\u001b[93m\u2196\u001b[93m\u2199\u001b[93m\u2196\n",
        "\u001b[93m\u2193\u001b[93m\u2191\u001b[92mO\u001b[93m\u2191\u001b[92mO\u001b[92mO\u001b[92mO\u001b[92mO\u001b[92mO\u001b[92mO\u001b[93m\u2199\u001b[92mO\u001b[92mO\u001b[92mO\u001b[92mO\u001b[93m\u2191\u001b[93m\u2193\u001b[93m\u2191\u001b[93m\u2193\u001b[93m\u2191\u001b[93m\u2193\u001b[93m\u2191\u001b[93m\u2193\u001b[93m\u2191\u001b[93m\u2199\u001b[93m\u2191\u001b[93m\u2199\u001b[93m\u2192\u001b[93m\u2190\n",
        "\u001b[93m\u2196\u001b[93m\u2199\u001b[93m\u2191\u001b[92mO\u001b[92mO\u001b[92mO\u001b[92mO\u001b[92mO\u001b[93m\u2196\u001b[92mO\u001b[92mO\u001b[92mO\u001b[92mO\u001b[92mO\u001b[92mO\u001b[93m\u2193\u001b[93m\u2192\u001b[93m\u2193\u001b[93m\u2191\u001b[93m\u2193\u001b[93m\u2191\u001b[93m\u2193\u001b[93m\u2191\u001b[93m\u2193\u001b[93m\u2191\u001b[93m\u2199\u001b[93m\u2196\u001b[93m\u2199\u001b[93m\u2192\n",
        "\u001b[93m\u2199\u001b[93m\u2191\u001b[92mO\u001b[93m\u2191\u001b[92mO\u001b[93m\u2191\u001b[92mO\u001b[92mO\u001b[92mO\u001b[92mO\u001b[92mO\u001b[92mO\u001b[92mO\u001b[92mO\u001b[93m\u2193\u001b[93m\u2191\u001b[93m\u2193\u001b[93m\u2191\u001b[93m\u2193\u001b[93m\u2191\u001b[93m\u2193\u001b[93m\u2191\u001b[93m\u2193\u001b[93m\u2191\u001b[93m\u2199\u001b[93m\u2191\u001b[93m\u2199\u001b[93m\u2192\u001b[93m\u2190\n",
        "\u001b[93m\u2196\u001b[92mO\u001b[93m\u2191\u001b[92mO\u001b[93m\u2197\u001b[92mO\u001b[92mO\u001b[92mO\u001b[92mO\u001b[92mO\u001b[92mO\u001b[92mO\u001b[92mO\u001b[92mO\u001b[92mO\u001b[93m\u2193\u001b[93m\u2192\u001b[93m\u2198\u001b[93m\u2191\u001b[93m\u2193\u001b[93m\u2191\u001b[93m\u2193\u001b[93m\u2191\u001b[93m\u2199\u001b[93m\u2192\u001b[93m\u2199\u001b[93m\u2192\u001b[93m\u2190\u001b[93m\u2192\n",
        "\u001b[93m\u2199\u001b[93m\u2191\u001b[93m\u2199\u001b[93m\u2191\u001b[93m\u2193\u001b[93m\u2191\u001b[92mO\u001b[92mO\u001b[92mO\u001b[92mO\u001b[92mO\u001b[92mO\u001b[92mO\u001b[92mO\u001b[92mO\u001b[93m\u2191\u001b[93m\u2193\u001b[93m\u2191\u001b[93m\u2193\u001b[93m\u2191\u001b[93m\u2199\u001b[93m\u2191\u001b[93m\u2199\u001b[93m\u2192\u001b[93m\u2199\u001b[93m\u2192\u001b[93m\u2197\u001b[93m\u2192\u001b[93m\u2190\n",
        "\u001b[93m\u2196\u001b[93m\u2199\u001b[93m\u2191\u001b[92mO\u001b[93m\u2192\u001b[92mO\u001b[93m\u2197\u001b[92mO\u001b[93m\u2192\u001b[92mO\u001b[92mO\u001b[92mO\u001b[92mO\u001b[92mO\u001b[92mO\u001b[93m\u2193\u001b[93m\u2191\u001b[93m\u2193\u001b[93m\u2191\u001b[93m\u2193\u001b[93m\u2191\u001b[93m\u2199\u001b[93m\u2192\u001b[93m\u2199\u001b[93m\u2192\u001b[93m\u2190\u001b[93m\u2192\u001b[93m\u2190\u001b[93m\u2197\n",
        "\u001b[0m"
       ]
      },
      {
       "output_type": "stream",
       "stream": "stdout",
       "text": [
        "\n"
       ]
      },
      {
       "name": "stdout",
       "output_type": "stream",
       "stream": "stdout",
       "text": [
        "Happy? [Y/n/set] set gain 60\n"
       ]
      },
      {
       "output_type": "stream",
       "stream": "stderr",
       "text": [
        "Searching for chessboard\n",
        "\u001b[1mGeometric Calibration Report:\n",
        "\u001b[0m\n",
        "    Legend:\n",
        "        \u001b[92mO\u001b[0m - Pixel perfect\n",
        "        \u001b[93m\u2197\u001b[0m - Off by up-to 5 pixels\n",
        "        \u001b[91m\u2197\u001b[0m - Off by more than 5 pixels\n",
        "\n"
       ]
      },
      {
       "output_type": "stream",
       "stream": "stderr",
       "text": [
        "\u001b[92mO\u001b[93m\u2193\u001b[92mO\u001b[92mO\u001b[92mO\u001b[92mO\u001b[92mO\u001b[92mO\u001b[92mO\u001b[92mO\u001b[92mO\u001b[92mO\u001b[92mO\u001b[92mO\u001b[92mO\u001b[92mO\u001b[93m\u2197\u001b[92mO\u001b[93m\u2191\u001b[92mO\u001b[93m\u2191\u001b[92mO\u001b[93m\u2191\u001b[93m\u2199\u001b[93m\u2191\u001b[93m\u2199\u001b[93m\u2192\u001b[93m\u2199\u001b[93m\u2198\n",
        "\u001b[93m\u2198\u001b[92mO\u001b[92mO\u001b[92mO\u001b[92mO\u001b[92mO\u001b[93m\u2199\u001b[93m\u2198\u001b[93m\u2199\u001b[92mO\u001b[92mO\u001b[92mO\u001b[92mO\u001b[92mO\u001b[93m\u2199\u001b[92mO\u001b[92mO\u001b[93m\u2197\u001b[92mO\u001b[93m\u2197\u001b[92mO\u001b[93m\u2191\u001b[93m\u2193\u001b[93m\u2191\u001b[93m\u2199\u001b[93m\u2192\u001b[93m\u2199\u001b[93m\u2192\u001b[93m\u2190\n",
        "\u001b[92mO\u001b[93m\u2193\u001b[93m\u2196\u001b[92mO\u001b[92mO\u001b[92mO\u001b[92mO\u001b[92mO\u001b[92mO\u001b[93m\u2199\u001b[92mO\u001b[93m\u2199\u001b[92mO\u001b[92mO\u001b[92mO\u001b[92mO\u001b[92mO\u001b[92mO\u001b[93m\u2191\u001b[93m\u2193\u001b[93m\u2191\u001b[93m\u2193\u001b[93m\u2191\u001b[93m\u2193\u001b[93m\u2191\u001b[93m\u2199\u001b[93m\u2192\u001b[93m\u2197\u001b[93m\u2192\n",
        "\u001b[92mO\u001b[92mO\u001b[92mO\u001b[92mO\u001b[92mO\u001b[92mO\u001b[93m\u2199\u001b[92mO\u001b[92mO\u001b[92mO\u001b[92mO\u001b[92mO\u001b[92mO\u001b[92mO\u001b[92mO\u001b[92mO\u001b[92mO\u001b[92mO\u001b[93m\u2193\u001b[93m\u2191\u001b[93m\u2193\u001b[93m\u2191\u001b[92mO\u001b[93m\u2191\u001b[93m\u2199\u001b[93m\u2191\u001b[93m\u2199\u001b[93m\u2192\u001b[93m\u2190\n",
        "\u001b[93m\u2191\u001b[92mO\u001b[92mO\u001b[92mO\u001b[92mO\u001b[92mO\u001b[92mO\u001b[92mO\u001b[92mO\u001b[92mO\u001b[92mO\u001b[92mO\u001b[92mO\u001b[92mO\u001b[92mO\u001b[92mO\u001b[92mO\u001b[92mO\u001b[93m\u2191\u001b[92mO\u001b[93m\u2191\u001b[93m\u2193\u001b[93m\u2191\u001b[93m\u2193\u001b[93m\u2191\u001b[93m\u2199\u001b[93m\u2196\u001b[93m\u2190\u001b[93m\u2192\n",
        "\u001b[92mO\u001b[92mO\u001b[92mO\u001b[92mO\u001b[92mO\u001b[92mO\u001b[92mO\u001b[92mO\u001b[93m\u2199\u001b[92mO\u001b[92mO\u001b[92mO\u001b[93m\u2199\u001b[92mO\u001b[92mO\u001b[92mO\u001b[92mO\u001b[92mO\u001b[92mO\u001b[93m\u2191\u001b[93m\u2199\u001b[93m\u2191\u001b[93m\u2193\u001b[93m\u2191\u001b[93m\u2199\u001b[93m\u2191\u001b[93m\u2199\u001b[93m\u2192\u001b[93m\u2190\n",
        "\u001b[92mO\u001b[92mO\u001b[92mO\u001b[92mO\u001b[92mO\u001b[92mO\u001b[92mO\u001b[92mO\u001b[92mO\u001b[92mO\u001b[92mO\u001b[92mO\u001b[92mO\u001b[92mO\u001b[92mO\u001b[92mO\u001b[92mO\u001b[92mO\u001b[93m\u2191\u001b[93m\u2193\u001b[93m\u2191\u001b[93m\u2199\u001b[93m\u2191\u001b[93m\u2199\u001b[93m\u2191\u001b[93m\u2199\u001b[93m\u2196\u001b[93m\u2190\u001b[93m\u2192\n",
        "\u001b[92mO\u001b[93m\u2191\u001b[92mO\u001b[92mO\u001b[92mO\u001b[92mO\u001b[92mO\u001b[92mO\u001b[92mO\u001b[92mO\u001b[92mO\u001b[92mO\u001b[92mO\u001b[92mO\u001b[92mO\u001b[92mO\u001b[92mO\u001b[93m\u2191\u001b[92mO\u001b[93m\u2191\u001b[93m\u2193\u001b[93m\u2191\u001b[93m\u2193\u001b[93m\u2191\u001b[93m\u2199\u001b[93m\u2191\u001b[93m\u2199\u001b[93m\u2192\u001b[93m\u2190\n",
        "\u001b[93m\u2191\u001b[92mO\u001b[93m\u2191\u001b[92mO\u001b[92mO\u001b[92mO\u001b[92mO\u001b[92mO\u001b[92mO\u001b[92mO\u001b[92mO\u001b[92mO\u001b[92mO\u001b[92mO\u001b[92mO\u001b[92mO\u001b[92mO\u001b[92mO\u001b[93m\u2191\u001b[93m\u2193\u001b[93m\u2191\u001b[93m\u2199\u001b[93m\u2191\u001b[93m\u2193\u001b[93m\u2191\u001b[93m\u2199\u001b[93m\u2192\u001b[93m\u2190\u001b[93m\u2192\n",
        "\u001b[92mO\u001b[93m\u2191\u001b[92mO\u001b[92mO\u001b[92mO\u001b[92mO\u001b[92mO\u001b[92mO\u001b[92mO\u001b[92mO\u001b[92mO\u001b[92mO\u001b[92mO\u001b[92mO\u001b[92mO\u001b[92mO\u001b[92mO\u001b[92mO\u001b[92mO\u001b[92mO\u001b[93m\u2193\u001b[93m\u2191\u001b[93m\u2193\u001b[93m\u2191\u001b[93m\u2199\u001b[93m\u2196\u001b[93m\u2190\u001b[93m\u2192\u001b[93m\u2190\n",
        "\u001b[93m\u2191\u001b[92mO\u001b[93m\u2191\u001b[92mO\u001b[92mO\u001b[92mO\u001b[92mO\u001b[92mO\u001b[93m\u2196\u001b[92mO\u001b[92mO\u001b[92mO\u001b[92mO\u001b[92mO\u001b[92mO\u001b[92mO\u001b[92mO\u001b[93m\u2193\u001b[92mO\u001b[92mO\u001b[93m\u2191\u001b[93m\u2193\u001b[93m\u2191\u001b[93m\u2199\u001b[93m\u2191\u001b[93m\u2199\u001b[93m\u2196\u001b[93m\u2190\u001b[93m\u2192\n",
        "\u001b[92mO\u001b[93m\u2191\u001b[92mO\u001b[93m\u2191\u001b[92mO\u001b[92mO\u001b[92mO\u001b[92mO\u001b[92mO\u001b[92mO\u001b[92mO\u001b[92mO\u001b[92mO\u001b[92mO\u001b[93m\u2193\u001b[92mO\u001b[92mO\u001b[92mO\u001b[93m\u2193\u001b[93m\u2191\u001b[93m\u2193\u001b[93m\u2191\u001b[93m\u2193\u001b[93m\u2197\u001b[93m\u2199\u001b[93m\u2192\u001b[93m\u2190\u001b[93m\u2192\u001b[93m\u2190\n",
        "\u001b[93m\u2191\u001b[92mO\u001b[93m\u2191\u001b[93m\u2199\u001b[92mO\u001b[92mO\u001b[92mO\u001b[93m\u2199\u001b[92mO\u001b[92mO\u001b[92mO\u001b[92mO\u001b[92mO\u001b[92mO\u001b[92mO\u001b[92mO\u001b[93m\u2192\u001b[92mO\u001b[93m\u2191\u001b[93m\u2193\u001b[93m\u2192\u001b[93m\u2198\u001b[93m\u2191\u001b[93m\u2199\u001b[93m\u2191\u001b[93m\u2190\u001b[93m\u2192\u001b[93m\u2190\u001b[93m\u2192\n",
        "\u001b[92mO\u001b[93m\u2191\u001b[93m\u2199\u001b[93m\u2192\u001b[92mO\u001b[92mO\u001b[93m\u2199\u001b[92mO\u001b[92mO\u001b[92mO\u001b[92mO\u001b[92mO\u001b[92mO\u001b[92mO\u001b[92mO\u001b[93m\u2197\u001b[92mO\u001b[92mO\u001b[93m\u2198\u001b[93m\u2192\u001b[93m\u2193\u001b[93m\u2192\u001b[93m\u2193\u001b[93m\u2192\u001b[93m\u2190\u001b[93m\u2192\u001b[93m\u2190\u001b[93m\u2192\u001b[93m\u2190\n",
        "\u001b[93m\u2191\u001b[92mO\u001b[93m\u2191\u001b[92mO\u001b[92mO\u001b[92mO\u001b[92mO\u001b[92mO\u001b[92mO\u001b[92mO\u001b[92mO\u001b[92mO\u001b[92mO\u001b[92mO\u001b[93m\u2198\u001b[93m\u2198\u001b[92mO\u001b[93m\u2192\u001b[92mO\u001b[93m\u2193\u001b[93m\u2192\u001b[93m\u2193\u001b[93m\u2192\u001b[93m\u2199\u001b[93m\u2192\u001b[93m\u2190\u001b[93m\u2192\u001b[93m\u2190\u001b[93m\u2192\n",
        "\u001b[0m"
       ]
      },
      {
       "output_type": "stream",
       "stream": "stdout",
       "text": [
        "                     brightness (int)    : min=0 max=255 step=1 default=128 value=128\n",
        "                       contrast (int)    : min=0 max=255 step=1 default=128 value=128\n",
        "                     saturation (int)    : min=0 max=255 step=1 default=128 value=128\n",
        " white_balance_temperature_auto (bool)   : default=1 value=0\n",
        "                           gain (int)    : min=0 max=255 step=1 default=0 value=60\n",
        "           power_line_frequency (menu)   : min=0 max=2 default=2 value=1\n",
        "\t\t\t\t0: Disabled\n",
        "\t\t\t\t1: 50 Hz\n",
        "\t\t\t\t2: 60 Hz\n",
        "      white_balance_temperature (int)    : min=2000 max=6500 step=1 default=4000 value=6500\n",
        "                      sharpness (int)    : min=0 max=255 step=1 default=128 value=128\n",
        "         backlight_compensation (int)    : min=0 max=1 step=1 default=0 value=0\n",
        "                  exposure_auto (menu)   : min=0 max=3 default=3 value=1\n",
        "\t\t\t\t1: Manual Mode\n",
        "\t\t\t\t3: Aperture Priority Mode\n",
        "              exposure_absolute (int)    : min=3 max=2047 step=1 default=250 value=295\n",
        "         exposure_auto_priority (bool)   : default=0 value=1\n",
        "                   pan_absolute (int)    : min=-36000 max=36000 step=3600 default=0 value=0\n",
        "                  tilt_absolute (int)    : min=-36000 max=36000 step=3600 default=0 value=0\n",
        "                 focus_absolute (int)    : min=0 max=250 step=5 default=0 value=40\n",
        "                     focus_auto (bool)   : default=1 value=0\n",
        "                  zoom_absolute (int)    : min=100 max=500 step=1 default=100 value=100\n",
        "                      led1_mode (menu)   : min=0 max=3 default=0 value=3\n",
        "\t\t\t\t0: Off\n",
        "\t\t\t\t1: On\n",
        "\t\t\t\t2: Blink\n",
        "\t\t\t\t3: Auto\n",
        "                 led1_frequency (int)    : min=0 max=255 step=1 default=0 value=0\n",
        "\n"
       ]
      },
      {
       "name": "stdout",
       "output_type": "stream",
       "stream": "stdout",
       "text": [
        "Happy? [Y/n/set] n\n"
       ]
      },
      {
       "output_type": "stream",
       "stream": "stderr",
       "text": [
        "Searching for chessboard\n",
        "\u001b[1mGeometric Calibration Report:\n",
        "\u001b[0m\n",
        "    Legend:\n",
        "        \u001b[92mO\u001b[0m - Pixel perfect\n",
        "        \u001b[93m\u2197\u001b[0m - Off by up-to 5 pixels\n",
        "        \u001b[91m\u2197\u001b[0m - Off by more than 5 pixels\n",
        "\n"
       ]
      },
      {
       "output_type": "stream",
       "stream": "stderr",
       "text": [
        "\u001b[92mO\u001b[92mO\u001b[92mO\u001b[92mO\u001b[92mO\u001b[92mO\u001b[92mO\u001b[92mO\u001b[92mO\u001b[92mO\u001b[92mO\u001b[92mO\u001b[92mO\u001b[92mO\u001b[92mO\u001b[92mO\u001b[92mO\u001b[92mO\u001b[92mO\u001b[92mO\u001b[92mO\u001b[92mO\u001b[92mO\u001b[92mO\u001b[92mO\u001b[92mO\u001b[93m\u2198\u001b[93m\u2197\u001b[93m\u2192\n",
        "\u001b[92mO\u001b[92mO\u001b[92mO\u001b[92mO\u001b[92mO\u001b[92mO\u001b[92mO\u001b[92mO\u001b[92mO\u001b[92mO\u001b[92mO\u001b[92mO\u001b[92mO\u001b[92mO\u001b[92mO\u001b[92mO\u001b[92mO\u001b[92mO\u001b[92mO\u001b[92mO\u001b[92mO\u001b[92mO\u001b[92mO\u001b[92mO\u001b[92mO\u001b[93m\u2192\u001b[92mO\u001b[93m\u2198\u001b[93m\u2190\n",
        "\u001b[92mO\u001b[92mO\u001b[92mO\u001b[92mO\u001b[92mO\u001b[92mO\u001b[92mO\u001b[92mO\u001b[92mO\u001b[92mO\u001b[92mO\u001b[92mO\u001b[92mO\u001b[92mO\u001b[92mO\u001b[92mO\u001b[92mO\u001b[92mO\u001b[92mO\u001b[92mO\u001b[92mO\u001b[92mO\u001b[92mO\u001b[92mO\u001b[92mO\u001b[92mO\u001b[93m\u2192\u001b[92mO\u001b[93m\u2198\n",
        "\u001b[92mO\u001b[92mO\u001b[92mO\u001b[92mO\u001b[92mO\u001b[92mO\u001b[92mO\u001b[92mO\u001b[92mO\u001b[92mO\u001b[92mO\u001b[92mO\u001b[92mO\u001b[92mO\u001b[92mO\u001b[92mO\u001b[92mO\u001b[92mO\u001b[92mO\u001b[92mO\u001b[92mO\u001b[92mO\u001b[92mO\u001b[92mO\u001b[92mO\u001b[92mO\u001b[93m\u2190\u001b[93m\u2198\u001b[93m\u2190\n",
        "\u001b[92mO\u001b[92mO\u001b[92mO\u001b[92mO\u001b[92mO\u001b[92mO\u001b[92mO\u001b[92mO\u001b[92mO\u001b[92mO\u001b[92mO\u001b[92mO\u001b[92mO\u001b[92mO\u001b[92mO\u001b[92mO\u001b[92mO\u001b[92mO\u001b[92mO\u001b[92mO\u001b[92mO\u001b[92mO\u001b[92mO\u001b[92mO\u001b[93m\u2192\u001b[92mO\u001b[92mO\u001b[93m\u2190\u001b[93m\u2192\n",
        "\u001b[92mO\u001b[92mO\u001b[92mO\u001b[92mO\u001b[92mO\u001b[92mO\u001b[92mO\u001b[92mO\u001b[92mO\u001b[92mO\u001b[92mO\u001b[92mO\u001b[92mO\u001b[92mO\u001b[92mO\u001b[92mO\u001b[92mO\u001b[92mO\u001b[92mO\u001b[92mO\u001b[92mO\u001b[92mO\u001b[92mO\u001b[92mO\u001b[92mO\u001b[92mO\u001b[92mO\u001b[92mO\u001b[93m\u2190\n",
        "\u001b[92mO\u001b[92mO\u001b[92mO\u001b[92mO\u001b[92mO\u001b[92mO\u001b[92mO\u001b[92mO\u001b[92mO\u001b[92mO\u001b[92mO\u001b[92mO\u001b[92mO\u001b[92mO\u001b[92mO\u001b[92mO\u001b[92mO\u001b[92mO\u001b[92mO\u001b[92mO\u001b[92mO\u001b[92mO\u001b[92mO\u001b[92mO\u001b[93m\u2196\u001b[92mO\u001b[92mO\u001b[93m\u2197\u001b[92mO\n",
        "\u001b[92mO\u001b[92mO\u001b[92mO\u001b[92mO\u001b[92mO\u001b[92mO\u001b[92mO\u001b[92mO\u001b[92mO\u001b[92mO\u001b[92mO\u001b[92mO\u001b[92mO\u001b[92mO\u001b[92mO\u001b[92mO\u001b[92mO\u001b[92mO\u001b[92mO\u001b[92mO\u001b[92mO\u001b[92mO\u001b[92mO\u001b[92mO\u001b[92mO\u001b[92mO\u001b[92mO\u001b[93m\u2192\u001b[93m\u2190\n",
        "\u001b[92mO\u001b[92mO\u001b[92mO\u001b[92mO\u001b[92mO\u001b[92mO\u001b[92mO\u001b[92mO\u001b[92mO\u001b[92mO\u001b[92mO\u001b[92mO\u001b[92mO\u001b[92mO\u001b[92mO\u001b[92mO\u001b[92mO\u001b[92mO\u001b[92mO\u001b[92mO\u001b[92mO\u001b[92mO\u001b[92mO\u001b[92mO\u001b[92mO\u001b[92mO\u001b[92mO\u001b[92mO\u001b[93m\u2192\n",
        "\u001b[92mO\u001b[92mO\u001b[92mO\u001b[92mO\u001b[92mO\u001b[92mO\u001b[92mO\u001b[92mO\u001b[92mO\u001b[92mO\u001b[92mO\u001b[92mO\u001b[92mO\u001b[92mO\u001b[92mO\u001b[92mO\u001b[92mO\u001b[92mO\u001b[92mO\u001b[92mO\u001b[92mO\u001b[93m\u2196\u001b[92mO\u001b[93m\u2196\u001b[92mO\u001b[92mO\u001b[93m\u2190\u001b[93m\u2192\u001b[93m\u2191\n",
        "\u001b[92mO\u001b[92mO\u001b[92mO\u001b[92mO\u001b[92mO\u001b[92mO\u001b[92mO\u001b[92mO\u001b[92mO\u001b[92mO\u001b[92mO\u001b[92mO\u001b[92mO\u001b[92mO\u001b[92mO\u001b[92mO\u001b[92mO\u001b[92mO\u001b[92mO\u001b[92mO\u001b[92mO\u001b[92mO\u001b[92mO\u001b[92mO\u001b[92mO\u001b[93m\u2190\u001b[92mO\u001b[93m\u2190\u001b[92mO\n",
        "\u001b[92mO\u001b[92mO\u001b[92mO\u001b[92mO\u001b[92mO\u001b[92mO\u001b[92mO\u001b[92mO\u001b[92mO\u001b[92mO\u001b[92mO\u001b[92mO\u001b[92mO\u001b[92mO\u001b[92mO\u001b[92mO\u001b[92mO\u001b[92mO\u001b[92mO\u001b[92mO\u001b[92mO\u001b[92mO\u001b[92mO\u001b[92mO\u001b[92mO\u001b[92mO\u001b[93m\u2190\u001b[93m\u2192\u001b[93m\u2190\n",
        "\u001b[92mO\u001b[92mO\u001b[92mO\u001b[92mO\u001b[92mO\u001b[92mO\u001b[92mO\u001b[92mO\u001b[92mO\u001b[92mO\u001b[92mO\u001b[92mO\u001b[92mO\u001b[92mO\u001b[92mO\u001b[92mO\u001b[92mO\u001b[92mO\u001b[92mO\u001b[92mO\u001b[92mO\u001b[92mO\u001b[92mO\u001b[92mO\u001b[92mO\u001b[92mO\u001b[93m\u2192\u001b[93m\u2190\u001b[92mO\n",
        "\u001b[92mO\u001b[92mO\u001b[92mO\u001b[92mO\u001b[92mO\u001b[92mO\u001b[92mO\u001b[92mO\u001b[92mO\u001b[92mO\u001b[92mO\u001b[92mO\u001b[92mO\u001b[92mO\u001b[92mO\u001b[92mO\u001b[92mO\u001b[92mO\u001b[92mO\u001b[92mO\u001b[92mO\u001b[92mO\u001b[92mO\u001b[92mO\u001b[92mO\u001b[92mO\u001b[92mO\u001b[92mO\u001b[93m\u2190\n",
        "\u001b[92mO\u001b[92mO\u001b[92mO\u001b[92mO\u001b[92mO\u001b[92mO\u001b[92mO\u001b[92mO\u001b[92mO\u001b[92mO\u001b[92mO\u001b[92mO\u001b[92mO\u001b[92mO\u001b[92mO\u001b[92mO\u001b[92mO\u001b[92mO\u001b[92mO\u001b[92mO\u001b[92mO\u001b[92mO\u001b[93m\u2198\u001b[92mO\u001b[92mO\u001b[93m\u2190\u001b[92mO\u001b[92mO\u001b[93m\u2198\n",
        "\u001b[0m"
       ]
      },
      {
       "output_type": "stream",
       "stream": "stdout",
       "text": [
        "                     brightness (int)    : min=0 max=255 step=1 default=128 value=128\n",
        "                       contrast (int)    : min=0 max=255 step=1 default=128 value=128\n",
        "                     saturation (int)    : min=0 max=255 step=1 default=128 value=128\n",
        " white_balance_temperature_auto (bool)   : default=1 value=0\n",
        "                           gain (int)    : min=0 max=255 step=1 default=0 value=60\n",
        "           power_line_frequency (menu)   : min=0 max=2 default=2 value=1\n",
        "\t\t\t\t0: Disabled\n",
        "\t\t\t\t1: 50 Hz\n",
        "\t\t\t\t2: 60 Hz\n",
        "      white_balance_temperature (int)    : min=2000 max=6500 step=1 default=4000 value=6500\n",
        "                      sharpness (int)    : min=0 max=255 step=1 default=128 value=128\n",
        "         backlight_compensation (int)    : min=0 max=1 step=1 default=0 value=0\n",
        "                  exposure_auto (menu)   : min=0 max=3 default=3 value=1\n",
        "\t\t\t\t1: Manual Mode\n",
        "\t\t\t\t3: Aperture Priority Mode\n",
        "              exposure_absolute (int)    : min=3 max=2047 step=1 default=250 value=295\n",
        "         exposure_auto_priority (bool)   : default=0 value=1\n",
        "                   pan_absolute (int)    : min=-36000 max=36000 step=3600 default=0 value=0\n",
        "                  tilt_absolute (int)    : min=-36000 max=36000 step=3600 default=0 value=0\n",
        "                 focus_absolute (int)    : min=0 max=250 step=5 default=0 value=40\n",
        "                     focus_auto (bool)   : default=1 value=0\n",
        "                  zoom_absolute (int)    : min=100 max=500 step=1 default=100 value=100\n",
        "                      led1_mode (menu)   : min=0 max=3 default=0 value=3\n",
        "\t\t\t\t0: Off\n",
        "\t\t\t\t1: On\n",
        "\t\t\t\t2: Blink\n",
        "\t\t\t\t3: Auto\n",
        "                 led1_frequency (int)    : min=0 max=255 step=1 default=0 value=0\n",
        "\n"
       ]
      },
      {
       "name": "stdout",
       "output_type": "stream",
       "stream": "stdout",
       "text": [
        "Happy? [Y/n/set] \n"
       ]
      }
     ],
     "prompt_number": 3
    },
    {
     "cell_type": "code",
     "collapsed": false,
     "input": [
      "for device in [device_a, device_b]:\n",
      "    with device_to_dut(device) as dut:\n",
      "        stbt._dut = dut\n",
      "        #raw_input()\n",
      "        device['color_map'] = [x / 255. for x in stbt_camera_calibrate.adjust_levels(\n",
      "            tv=_stbt.tv_driver.create_from_args(\"adb\", stbt_camera_calibrate.videos),\n",
      "            device=device['devpath'])]\n",
      "        stbt._dut = None"
     ],
     "language": "python",
     "metadata": {},
     "outputs": [
      {
       "output_type": "stream",
       "stream": "stderr",
       "text": [
        "Analysing colours...\n",
        "\n"
       ]
      },
      {
       "output_type": "stream",
       "stream": "stderr",
       "text": [
        "[                    ]        0 / 150\r",
        "[                    ]        1 / 150\r"
       ]
      },
      {
       "output_type": "stream",
       "stream": "stderr",
       "text": [
        "[                    ]        2 / 150\r",
        "[                    ]        3 / 150\r"
       ]
      },
      {
       "output_type": "stream",
       "stream": "stderr",
       "text": [
        "[                    ]        4 / 150\r",
        "[                    ]        5 / 150\r"
       ]
      },
      {
       "output_type": "stream",
       "stream": "stderr",
       "text": [
        "[                    ]        6 / 150\r",
        "[                    ]        7 / 150\r"
       ]
      },
      {
       "output_type": "stream",
       "stream": "stderr",
       "text": [
        "[#                   ]        8 / 150\r",
        "[#                   ]        9 / 150\r"
       ]
      },
      {
       "output_type": "stream",
       "stream": "stderr",
       "text": [
        "[#                   ]       10 / 150\r",
        "[#                   ]       11 / 150\r"
       ]
      },
      {
       "output_type": "stream",
       "stream": "stderr",
       "text": [
        "[#                   ]       12 / 150\r",
        "[#                   ]       13 / 150\r"
       ]
      },
      {
       "output_type": "stream",
       "stream": "stderr",
       "text": [
        "[#                   ]       14 / 150\r",
        "[##                  ]       15 / 150\r"
       ]
      },
      {
       "output_type": "stream",
       "stream": "stderr",
       "text": [
        "[##                  ]       16 / 150\r",
        "[##                  ]       17 / 150\r"
       ]
      },
      {
       "output_type": "stream",
       "stream": "stderr",
       "text": [
        "[##                  ]       18 / 150\r",
        "[##                  ]       19 / 150\r"
       ]
      },
      {
       "output_type": "stream",
       "stream": "stderr",
       "text": [
        "[##                  ]       20 / 150\r",
        "[##                  ]       21 / 150\r"
       ]
      },
      {
       "output_type": "stream",
       "stream": "stderr",
       "text": [
        "[##                  ]       22 / 150\r",
        "[###                 ]       23 / 150\r"
       ]
      },
      {
       "output_type": "stream",
       "stream": "stderr",
       "text": [
        "[###                 ]       24 / 150\r",
        "[###                 ]       25 / 150\r"
       ]
      },
      {
       "output_type": "stream",
       "stream": "stderr",
       "text": [
        "[###                 ]       26 / 150\r",
        "[###                 ]       27 / 150\r"
       ]
      },
      {
       "output_type": "stream",
       "stream": "stderr",
       "text": [
        "[###                 ]       28 / 150\r",
        "[###                 ]       29 / 150\r"
       ]
      },
      {
       "output_type": "stream",
       "stream": "stderr",
       "text": [
        "[####                ]       30 / 150\r",
        "[####                ]       31 / 150\r"
       ]
      },
      {
       "output_type": "stream",
       "stream": "stderr",
       "text": [
        "[####                ]       32 / 150\r",
        "[####                ]       33 / 150\r"
       ]
      },
      {
       "output_type": "stream",
       "stream": "stderr",
       "text": [
        "[####                ]       34 / 150\r",
        "[####                ]       35 / 150\r"
       ]
      },
      {
       "output_type": "stream",
       "stream": "stderr",
       "text": [
        "[####                ]       36 / 150\r",
        "[####                ]       37 / 150\r"
       ]
      },
      {
       "output_type": "stream",
       "stream": "stderr",
       "text": [
        "[#####               ]       38 / 150\r",
        "[#####               ]       39 / 150\r"
       ]
      },
      {
       "output_type": "stream",
       "stream": "stderr",
       "text": [
        "[#####               ]       40 / 150\r",
        "[#####               ]       41 / 150\r"
       ]
      },
      {
       "output_type": "stream",
       "stream": "stderr",
       "text": [
        "[#####               ]       42 / 150\r",
        "[#####               ]       43 / 150\r"
       ]
      },
      {
       "output_type": "stream",
       "stream": "stderr",
       "text": [
        "[#####               ]       44 / 150\r",
        "[######              ]       45 / 150\r"
       ]
      },
      {
       "output_type": "stream",
       "stream": "stderr",
       "text": [
        "[######              ]       46 / 150\r",
        "[######              ]       47 / 150\r"
       ]
      },
      {
       "output_type": "stream",
       "stream": "stderr",
       "text": [
        "[######              ]       48 / 150\r",
        "[######              ]       49 / 150\r"
       ]
      },
      {
       "output_type": "stream",
       "stream": "stderr",
       "text": [
        "[######              ]       50 / 150\r",
        "[######              ]       51 / 150\r"
       ]
      },
      {
       "output_type": "stream",
       "stream": "stderr",
       "text": [
        "[######              ]       52 / 150\r",
        "[#######             ]       53 / 150\r"
       ]
      },
      {
       "output_type": "stream",
       "stream": "stderr",
       "text": [
        "[#######             ]       54 / 150\r",
        "[#######             ]       55 / 150\r"
       ]
      },
      {
       "output_type": "stream",
       "stream": "stderr",
       "text": [
        "[#######             ]       56 / 150\r",
        "[#######             ]       57 / 150\r"
       ]
      },
      {
       "output_type": "stream",
       "stream": "stderr",
       "text": [
        "[#######             ]       58 / 150\r",
        "[#######             ]       59 / 150\r"
       ]
      },
      {
       "output_type": "stream",
       "stream": "stderr",
       "text": [
        "[########            ]       60 / 150\r",
        "[########            ]       61 / 150\r"
       ]
      },
      {
       "output_type": "stream",
       "stream": "stderr",
       "text": [
        "[########            ]       62 / 150\r",
        "[########            ]       63 / 150\r"
       ]
      },
      {
       "output_type": "stream",
       "stream": "stderr",
       "text": [
        "[########            ]       64 / 150\r",
        "[########            ]       65 / 150\r"
       ]
      },
      {
       "output_type": "stream",
       "stream": "stderr",
       "text": [
        "[########            ]       66 / 150\r",
        "[########            ]       67 / 150\r"
       ]
      },
      {
       "output_type": "stream",
       "stream": "stderr",
       "text": [
        "[#########           ]       68 / 150\r",
        "[#########           ]       69 / 150\r"
       ]
      },
      {
       "output_type": "stream",
       "stream": "stderr",
       "text": [
        "[#########           ]       70 / 150\r",
        "[#########           ]       71 / 150\r"
       ]
      },
      {
       "output_type": "stream",
       "stream": "stderr",
       "text": [
        "[#########           ]       72 / 150\r",
        "[#########           ]       73 / 150\r"
       ]
      },
      {
       "output_type": "stream",
       "stream": "stderr",
       "text": [
        "[#########           ]       74 / 150\r",
        "[##########          ]       75 / 150\r"
       ]
      },
      {
       "output_type": "stream",
       "stream": "stderr",
       "text": [
        "[##########          ]       76 / 150\r",
        "[##########          ]       77 / 150\r"
       ]
      },
      {
       "output_type": "stream",
       "stream": "stderr",
       "text": [
        "[##########          ]       78 / 150\r",
        "[##########          ]       79 / 150\r"
       ]
      },
      {
       "output_type": "stream",
       "stream": "stderr",
       "text": [
        "[##########          ]       80 / 150\r",
        "[##########          ]       81 / 150\r"
       ]
      },
      {
       "output_type": "stream",
       "stream": "stderr",
       "text": [
        "[##########          ]       82 / 150\r",
        "[###########         ]       83 / 150\r"
       ]
      },
      {
       "output_type": "stream",
       "stream": "stderr",
       "text": [
        "[###########         ]       84 / 150\r",
        "[###########         ]       85 / 150\r"
       ]
      },
      {
       "output_type": "stream",
       "stream": "stderr",
       "text": [
        "[###########         ]       86 / 150\r",
        "[###########         ]       87 / 150\r"
       ]
      },
      {
       "output_type": "stream",
       "stream": "stderr",
       "text": [
        "[###########         ]       88 / 150\r",
        "[###########         ]       89 / 150\r"
       ]
      },
      {
       "output_type": "stream",
       "stream": "stderr",
       "text": [
        "[############        ]       90 / 150\r",
        "[############        ]       91 / 150\r"
       ]
      },
      {
       "output_type": "stream",
       "stream": "stderr",
       "text": [
        "[############        ]       92 / 150\r",
        "[############        ]       93 / 150\r"
       ]
      },
      {
       "output_type": "stream",
       "stream": "stderr",
       "text": [
        "[############        ]       94 / 150\r",
        "[############        ]       95 / 150\r"
       ]
      },
      {
       "output_type": "stream",
       "stream": "stderr",
       "text": [
        "[############        ]       96 / 150\r",
        "[############        ]       97 / 150\r"
       ]
      },
      {
       "output_type": "stream",
       "stream": "stderr",
       "text": [
        "[#############       ]       98 / 150\r",
        "[#############       ]       99 / 150\r"
       ]
      },
      {
       "output_type": "stream",
       "stream": "stderr",
       "text": [
        "[#############       ]      100 / 150\r",
        "[#############       ]      101 / 150\r"
       ]
      },
      {
       "output_type": "stream",
       "stream": "stderr",
       "text": [
        "[#############       ]      102 / 150\r",
        "[#############       ]      103 / 150\r"
       ]
      },
      {
       "output_type": "stream",
       "stream": "stderr",
       "text": [
        "[#############       ]      104 / 150\r",
        "[##############      ]      105 / 150\r"
       ]
      },
      {
       "output_type": "stream",
       "stream": "stderr",
       "text": [
        "[##############      ]      106 / 150\r",
        "[##############      ]      107 / 150\r"
       ]
      },
      {
       "output_type": "stream",
       "stream": "stderr",
       "text": [
        "[##############      ]      108 / 150\r",
        "[##############      ]      109 / 150\r"
       ]
      },
      {
       "output_type": "stream",
       "stream": "stderr",
       "text": [
        "[##############      ]      110 / 150\r",
        "[##############      ]      111 / 150\r"
       ]
      },
      {
       "output_type": "stream",
       "stream": "stderr",
       "text": [
        "[##############      ]      112 / 150\r",
        "[###############     ]      113 / 150\r"
       ]
      },
      {
       "output_type": "stream",
       "stream": "stderr",
       "text": [
        "[###############     ]      114 / 150\r",
        "[###############     ]      115 / 150\r"
       ]
      },
      {
       "output_type": "stream",
       "stream": "stderr",
       "text": [
        "[###############     ]      116 / 150\r",
        "[###############     ]      117 / 150\r"
       ]
      },
      {
       "output_type": "stream",
       "stream": "stderr",
       "text": [
        "[###############     ]      118 / 150\r",
        "[###############     ]      119 / 150\r"
       ]
      },
      {
       "output_type": "stream",
       "stream": "stderr",
       "text": [
        "[################    ]      120 / 150\r",
        "[################    ]      121 / 150\r"
       ]
      },
      {
       "output_type": "stream",
       "stream": "stderr",
       "text": [
        "[################    ]      122 / 150\r",
        "[################    ]      123 / 150\r"
       ]
      },
      {
       "output_type": "stream",
       "stream": "stderr",
       "text": [
        "[################    ]      124 / 150\r",
        "[################    ]      125 / 150\r"
       ]
      },
      {
       "output_type": "stream",
       "stream": "stderr",
       "text": [
        "[################    ]      126 / 150\r",
        "[################    ]      127 / 150\r"
       ]
      },
      {
       "output_type": "stream",
       "stream": "stderr",
       "text": [
        "[#################   ]      128 / 150\r",
        "[#################   ]      129 / 150\r"
       ]
      },
      {
       "output_type": "stream",
       "stream": "stderr",
       "text": [
        "[#################   ]      130 / 150\r",
        "[#################   ]      131 / 150\r"
       ]
      },
      {
       "output_type": "stream",
       "stream": "stderr",
       "text": [
        "[#################   ]      132 / 150\r",
        "[#################   ]      133 / 150\r"
       ]
      },
      {
       "output_type": "stream",
       "stream": "stderr",
       "text": [
        "[#################   ]      134 / 150\r",
        "[##################  ]      135 / 150\r"
       ]
      },
      {
       "output_type": "stream",
       "stream": "stderr",
       "text": [
        "[##################  ]      136 / 150\r",
        "[##################  ]      137 / 150\r"
       ]
      },
      {
       "output_type": "stream",
       "stream": "stderr",
       "text": [
        "[##################  ]      138 / 150\r",
        "[##################  ]      139 / 150\r"
       ]
      },
      {
       "output_type": "stream",
       "stream": "stderr",
       "text": [
        "[##################  ]      140 / 150\r",
        "[##################  ]      141 / 150\r"
       ]
      },
      {
       "output_type": "stream",
       "stream": "stderr",
       "text": [
        "[##################  ]      142 / 150\r",
        "[################### ]      143 / 150\r"
       ]
      },
      {
       "output_type": "stream",
       "stream": "stderr",
       "text": [
        "[################### ]      144 / 150\r",
        "[################### ]      145 / 150\r"
       ]
      },
      {
       "output_type": "stream",
       "stream": "stderr",
       "text": [
        "[################### ]      146 / 150\r",
        "[################### ]      147 / 150\r"
       ]
      },
      {
       "output_type": "stream",
       "stream": "stderr",
       "text": [
        "[################### ]      148 / 150\r",
        "[################### ]      149 / 150\r"
       ]
      },
      {
       "output_type": "stream",
       "stream": "stdout",
       "text": [
        "[ 86  79  78  72 171  41  14 154 150  74 172 174 112  14  32 153 196  14\n",
        " 174  26 126  88 137  23  13  14 124  22  89  43 172 158 169 191 138  13\n",
        " 129  46 138 178  65 139  35  40 193  19 185 200  16 173  14  12 138 143\n",
        " 142  14 155 185  22  18  14 162 116 190 152 168  65 140  28  21 139  73\n",
        " 174 201  13 166  14 124  12  23 199  41 189 194  39  43 109 162 187 158\n",
        "  37  86  15 106  14 143 163 163 162  41  49 142  14  13 186 122 189 145\n",
        "  29 189 156  13  25 147  35 140  15  23 112  17  29 150  14  68  14  13\n",
        "  14  15 127  82  39 196  36 120  14  17  84 192  14  23 180  96  17  13\n",
        " 196  68  23  36  38 115]\n",
        "[ 66  40  40  37 126  29  40 127  38 152 176  14  23  60  41  20  14 137\n",
        "  15  76 180  74 148  24  89  59  65 145  25 181 146  98 135  14  17 176\n",
        "  17  42  18  15  63  31  30  21 159  50 144 169 114  15  85 138 179 169\n",
        " 167  38  44 156  21  25 135  23 162 171  37  81 181  17  45  21  26  92\n",
        "  21 134 180  31  25  26 182  24 165 181 129  12  20 128 179 109  15  19\n",
        " 174 181  24 170 153  65  17  15  19 166  94 178  26 111  16 164  14 172\n",
        "  90  15 106 178  70  16  34 103 156  24  18  61 176 179  48  82  34 145\n",
        " 117  29  23  19  79 117 150  22 115  80  93  75 147  48 120  36  33 102\n",
        " 165  28  21 182 134  63]"
       ]
      },
      {
       "output_type": "stream",
       "stream": "stdout",
       "text": [
        "\n",
        "[152 177 177 169  23 153 130  76  17 167  52 111  61 170  25  30  44 157\n",
        " 134  34  65  25  39  24 138 150  77 160 122  98 164 136 123 113  47 177\n",
        "  22 167  77 146  37 102  79  21 163 132 165  96 107  32 149 172 135 150\n",
        "  48 161 158 138  22  57 166 134 154 173  85 106  65 108  30  23  56 129\n",
        "  55  19 156  96 108  40 169  25  38 115 101  14  21  50 140  22 147 166\n",
        " 176 146  91 173 145 146 164  31  57  73 160  66 118 158 158  84 103 147\n",
        "  35  17  81 170  32  60 162 119 160  24  37  82 134 124 144  35 168 172\n",
        " 158 140 167  32  30  43  67 152 134  89 135  15 160  50 159 103  81 144\n",
        "  49 164  44 131  40 163]"
       ]
      },
      {
       "output_type": "stream",
       "stream": "stdout",
       "text": [
        "\n",
        "                     brightness (int)    : min=0 max=255 step=1 default=128 value=128\n",
        "                       contrast (int)    : min=0 max=255 step=1 default=128 value=128\n",
        "                     saturation (int)    : min=0 max=255 step=1 default=128 value=128\n",
        " white_balance_temperature_auto (bool)   : default=1 value=0\n",
        "                           gain (int)    : min=0 max=255 step=1 default=0 value=60\n",
        "           power_line_frequency (menu)   : min=0 max=2 default=2 value=1\n",
        "\t\t\t\t0: Disabled\n",
        "\t\t\t\t1: 50 Hz\n",
        "\t\t\t\t2: 60 Hz\n",
        "      white_balance_temperature (int)    : min=2000 max=6500 step=1 default=4000 value=6500\n",
        "                      sharpness (int)    : min=0 max=255 step=1 default=128 value=128\n",
        "         backlight_compensation (int)    : min=0 max=1 step=1 default=0 value=0\n",
        "                  exposure_auto (menu)   : min=0 max=3 default=3 value=1\n",
        "\t\t\t\t1: Manual Mode\n",
        "\t\t\t\t3: Aperture Priority Mode\n",
        "              exposure_absolute (int)    : min=3 max=2047 step=1 default=250 value=169\n",
        "         exposure_auto_priority (bool)   : default=0 value=1\n",
        "                   pan_absolute (int)    : min=-36000 max=36000 step=3600 default=0 value=0\n",
        "                  tilt_absolute (int)    : min=-36000 max=36000 step=3600 default=0 value=0\n",
        "                 focus_absolute (int)    : min=0 max=250 step=5 default=0 value=35\n",
        "                     focus_auto (bool)   : default=1 value=0\n",
        "                  zoom_absolute (int)    : min=100 max=500 step=1 default=100 value=100\n",
        "                      led1_mode (menu)   : min=0 max=3 default=0 value=3\n",
        "\t\t\t\t0: Off\n",
        "\t\t\t\t1: On\n",
        "\t\t\t\t2: Blink\n",
        "\t\t\t\t3: Auto\n",
        "                 led1_frequency (int)    : min=0 max=255 step=1 default=0 value=0\n"
       ]
      },
      {
       "output_type": "stream",
       "stream": "stderr",
       "text": [
        "\r",
        "                                                                                                                                                                                  \r"
       ]
      },
      {
       "output_type": "stream",
       "stream": "stdout",
       "text": [
        "\n"
       ]
      },
      {
       "name": "stdout",
       "output_type": "stream",
       "stream": "stdout",
       "text": [
        "Happy? [Y/n/set] \n"
       ]
      },
      {
       "output_type": "stream",
       "stream": "stderr",
       "text": [
        "Analysing colours...\n",
        "\n"
       ]
      },
      {
       "output_type": "stream",
       "stream": "stderr",
       "text": [
        "[                    ]        0 / 150\r",
        "[                    ]        1 / 150\r"
       ]
      },
      {
       "output_type": "stream",
       "stream": "stderr",
       "text": [
        "[                    ]        2 / 150\r",
        "[                    ]        3 / 150\r"
       ]
      },
      {
       "output_type": "stream",
       "stream": "stderr",
       "text": [
        "[                    ]        4 / 150\r",
        "[                    ]        5 / 150\r"
       ]
      },
      {
       "output_type": "stream",
       "stream": "stderr",
       "text": [
        "[                    ]        6 / 150\r",
        "[                    ]        7 / 150\r"
       ]
      },
      {
       "output_type": "stream",
       "stream": "stderr",
       "text": [
        "[#                   ]        8 / 150\r",
        "[#                   ]        9 / 150\r"
       ]
      },
      {
       "output_type": "stream",
       "stream": "stderr",
       "text": [
        "[#                   ]       10 / 150\r",
        "[#                   ]       11 / 150\r"
       ]
      },
      {
       "output_type": "stream",
       "stream": "stderr",
       "text": [
        "[#                   ]       12 / 150\r",
        "[#                   ]       13 / 150\r"
       ]
      },
      {
       "output_type": "stream",
       "stream": "stderr",
       "text": [
        "[#                   ]       14 / 150\r",
        "[##                  ]       15 / 150\r"
       ]
      },
      {
       "output_type": "stream",
       "stream": "stderr",
       "text": [
        "[##                  ]       16 / 150\r",
        "[##                  ]       17 / 150\r"
       ]
      },
      {
       "output_type": "stream",
       "stream": "stderr",
       "text": [
        "[##                  ]       18 / 150\r",
        "[##                  ]       19 / 150\r"
       ]
      },
      {
       "output_type": "stream",
       "stream": "stderr",
       "text": [
        "[##                  ]       20 / 150\r",
        "[##                  ]       21 / 150\r"
       ]
      },
      {
       "output_type": "stream",
       "stream": "stderr",
       "text": [
        "[##                  ]       22 / 150\r",
        "[###                 ]       23 / 150\r"
       ]
      },
      {
       "output_type": "stream",
       "stream": "stderr",
       "text": [
        "[###                 ]       24 / 150\r",
        "[###                 ]       25 / 150\r"
       ]
      },
      {
       "output_type": "stream",
       "stream": "stderr",
       "text": [
        "[###                 ]       26 / 150\r",
        "[###                 ]       27 / 150\r"
       ]
      },
      {
       "output_type": "stream",
       "stream": "stderr",
       "text": [
        "[###                 ]       28 / 150\r",
        "[###                 ]       29 / 150\r"
       ]
      },
      {
       "output_type": "stream",
       "stream": "stderr",
       "text": [
        "[####                ]       30 / 150\r",
        "[####                ]       31 / 150\r"
       ]
      },
      {
       "output_type": "stream",
       "stream": "stderr",
       "text": [
        "[####                ]       32 / 150\r",
        "[####                ]       33 / 150\r"
       ]
      },
      {
       "output_type": "stream",
       "stream": "stderr",
       "text": [
        "[####                ]       34 / 150\r",
        "[####                ]       35 / 150\r"
       ]
      },
      {
       "output_type": "stream",
       "stream": "stderr",
       "text": [
        "[####                ]       36 / 150\r",
        "[####                ]       37 / 150\r"
       ]
      },
      {
       "output_type": "stream",
       "stream": "stderr",
       "text": [
        "[#####               ]       38 / 150\r",
        "[#####               ]       39 / 150\r"
       ]
      },
      {
       "output_type": "stream",
       "stream": "stderr",
       "text": [
        "[#####               ]       40 / 150\r",
        "[#####               ]       41 / 150\r"
       ]
      },
      {
       "output_type": "stream",
       "stream": "stderr",
       "text": [
        "[#####               ]       42 / 150\r",
        "[#####               ]       43 / 150\r"
       ]
      },
      {
       "output_type": "stream",
       "stream": "stderr",
       "text": [
        "[#####               ]       44 / 150\r",
        "[######              ]       45 / 150\r"
       ]
      },
      {
       "output_type": "stream",
       "stream": "stderr",
       "text": [
        "[######              ]       46 / 150\r",
        "[######              ]       47 / 150\r"
       ]
      },
      {
       "output_type": "stream",
       "stream": "stderr",
       "text": [
        "[######              ]       48 / 150\r",
        "[######              ]       49 / 150\r"
       ]
      },
      {
       "output_type": "stream",
       "stream": "stderr",
       "text": [
        "[######              ]       50 / 150\r",
        "[######              ]       51 / 150\r"
       ]
      },
      {
       "output_type": "stream",
       "stream": "stderr",
       "text": [
        "[######              ]       52 / 150\r",
        "[#######             ]       53 / 150\r"
       ]
      },
      {
       "output_type": "stream",
       "stream": "stderr",
       "text": [
        "[#######             ]       54 / 150\r",
        "[#######             ]       55 / 150\r"
       ]
      },
      {
       "output_type": "stream",
       "stream": "stderr",
       "text": [
        "[#######             ]       56 / 150\r",
        "[#######             ]       57 / 150\r"
       ]
      },
      {
       "output_type": "stream",
       "stream": "stderr",
       "text": [
        "[#######             ]       58 / 150\r",
        "[#######             ]       59 / 150\r"
       ]
      },
      {
       "output_type": "stream",
       "stream": "stderr",
       "text": [
        "[########            ]       60 / 150\r",
        "[########            ]       61 / 150\r"
       ]
      },
      {
       "output_type": "stream",
       "stream": "stderr",
       "text": [
        "[########            ]       62 / 150\r",
        "[########            ]       63 / 150\r"
       ]
      },
      {
       "output_type": "stream",
       "stream": "stderr",
       "text": [
        "[########            ]       64 / 150\r",
        "[########            ]       65 / 150\r"
       ]
      },
      {
       "output_type": "stream",
       "stream": "stderr",
       "text": [
        "[########            ]       66 / 150\r",
        "[########            ]       67 / 150\r"
       ]
      },
      {
       "output_type": "stream",
       "stream": "stderr",
       "text": [
        "[#########           ]       68 / 150\r",
        "[#########           ]       69 / 150\r"
       ]
      },
      {
       "output_type": "stream",
       "stream": "stderr",
       "text": [
        "[#########           ]       70 / 150\r",
        "[#########           ]       71 / 150\r"
       ]
      },
      {
       "output_type": "stream",
       "stream": "stderr",
       "text": [
        "[#########           ]       72 / 150\r",
        "[#########           ]       73 / 150\r"
       ]
      },
      {
       "output_type": "stream",
       "stream": "stderr",
       "text": [
        "[#########           ]       74 / 150\r",
        "[##########          ]       75 / 150\r"
       ]
      },
      {
       "output_type": "stream",
       "stream": "stderr",
       "text": [
        "[##########          ]       76 / 150\r",
        "[##########          ]       77 / 150\r"
       ]
      },
      {
       "output_type": "stream",
       "stream": "stderr",
       "text": [
        "[##########          ]       78 / 150\r",
        "[##########          ]       79 / 150\r"
       ]
      },
      {
       "output_type": "stream",
       "stream": "stderr",
       "text": [
        "[##########          ]       80 / 150\r",
        "[##########          ]       81 / 150\r"
       ]
      },
      {
       "output_type": "stream",
       "stream": "stderr",
       "text": [
        "[##########          ]       82 / 150\r",
        "[###########         ]       83 / 150\r"
       ]
      },
      {
       "output_type": "stream",
       "stream": "stderr",
       "text": [
        "[###########         ]       84 / 150\r",
        "[###########         ]       85 / 150\r"
       ]
      },
      {
       "output_type": "stream",
       "stream": "stderr",
       "text": [
        "[###########         ]       86 / 150\r",
        "[###########         ]       87 / 150\r"
       ]
      },
      {
       "output_type": "stream",
       "stream": "stderr",
       "text": [
        "[###########         ]       88 / 150\r",
        "[###########         ]       89 / 150\r"
       ]
      },
      {
       "output_type": "stream",
       "stream": "stderr",
       "text": [
        "[############        ]       90 / 150\r",
        "[############        ]       91 / 150\r"
       ]
      },
      {
       "output_type": "stream",
       "stream": "stderr",
       "text": [
        "[############        ]       92 / 150\r",
        "[############        ]       93 / 150\r"
       ]
      },
      {
       "output_type": "stream",
       "stream": "stderr",
       "text": [
        "[############        ]       94 / 150\r",
        "[############        ]       95 / 150\r"
       ]
      },
      {
       "output_type": "stream",
       "stream": "stderr",
       "text": [
        "[############        ]       96 / 150\r",
        "[############        ]       97 / 150\r"
       ]
      },
      {
       "output_type": "stream",
       "stream": "stderr",
       "text": [
        "[#############       ]       98 / 150\r",
        "[#############       ]       99 / 150\r"
       ]
      },
      {
       "output_type": "stream",
       "stream": "stderr",
       "text": [
        "[#############       ]      100 / 150\r",
        "[#############       ]      101 / 150\r"
       ]
      },
      {
       "output_type": "stream",
       "stream": "stderr",
       "text": [
        "[#############       ]      102 / 150\r",
        "[#############       ]      103 / 150\r"
       ]
      },
      {
       "output_type": "stream",
       "stream": "stderr",
       "text": [
        "[#############       ]      104 / 150\r",
        "[##############      ]      105 / 150\r"
       ]
      },
      {
       "output_type": "stream",
       "stream": "stderr",
       "text": [
        "[##############      ]      106 / 150\r",
        "[##############      ]      107 / 150\r"
       ]
      },
      {
       "output_type": "stream",
       "stream": "stderr",
       "text": [
        "[##############      ]      108 / 150\r",
        "[##############      ]      109 / 150\r"
       ]
      },
      {
       "output_type": "stream",
       "stream": "stderr",
       "text": [
        "[##############      ]      110 / 150\r",
        "[##############      ]      111 / 150\r"
       ]
      },
      {
       "output_type": "stream",
       "stream": "stderr",
       "text": [
        "[##############      ]      112 / 150\r",
        "[###############     ]      113 / 150\r"
       ]
      },
      {
       "output_type": "stream",
       "stream": "stderr",
       "text": [
        "[###############     ]      114 / 150\r",
        "[###############     ]      115 / 150\r"
       ]
      },
      {
       "output_type": "stream",
       "stream": "stderr",
       "text": [
        "[###############     ]      116 / 150\r",
        "[###############     ]      117 / 150\r"
       ]
      },
      {
       "output_type": "stream",
       "stream": "stderr",
       "text": [
        "[###############     ]      118 / 150\r",
        "[###############     ]      119 / 150\r"
       ]
      },
      {
       "output_type": "stream",
       "stream": "stderr",
       "text": [
        "[################    ]      120 / 150\r",
        "[################    ]      121 / 150\r"
       ]
      },
      {
       "output_type": "stream",
       "stream": "stderr",
       "text": [
        "[################    ]      122 / 150\r",
        "[################    ]      123 / 150\r"
       ]
      },
      {
       "output_type": "stream",
       "stream": "stderr",
       "text": [
        "[################    ]      124 / 150\r",
        "[################    ]      125 / 150\r"
       ]
      },
      {
       "output_type": "stream",
       "stream": "stderr",
       "text": [
        "[################    ]      126 / 150\r",
        "[################    ]      127 / 150\r"
       ]
      },
      {
       "output_type": "stream",
       "stream": "stderr",
       "text": [
        "[#################   ]      128 / 150\r",
        "[#################   ]      129 / 150\r"
       ]
      },
      {
       "output_type": "stream",
       "stream": "stderr",
       "text": [
        "[#################   ]      130 / 150\r",
        "[#################   ]      131 / 150\r"
       ]
      },
      {
       "output_type": "stream",
       "stream": "stderr",
       "text": [
        "[#################   ]      132 / 150\r",
        "[#################   ]      133 / 150\r"
       ]
      },
      {
       "output_type": "stream",
       "stream": "stderr",
       "text": [
        "[#################   ]      134 / 150\r",
        "[##################  ]      135 / 150\r"
       ]
      },
      {
       "output_type": "stream",
       "stream": "stderr",
       "text": [
        "[##################  ]      136 / 150\r",
        "[##################  ]      137 / 150\r"
       ]
      },
      {
       "output_type": "stream",
       "stream": "stderr",
       "text": [
        "[##################  ]      138 / 150\r",
        "[##################  ]      139 / 150\r"
       ]
      },
      {
       "output_type": "stream",
       "stream": "stderr",
       "text": [
        "[##################  ]      140 / 150\r",
        "[##################  ]      141 / 150\r"
       ]
      },
      {
       "output_type": "stream",
       "stream": "stderr",
       "text": [
        "[##################  ]      142 / 150\r",
        "[################### ]      143 / 150\r"
       ]
      },
      {
       "output_type": "stream",
       "stream": "stderr",
       "text": [
        "[################### ]      144 / 150\r",
        "[################### ]      145 / 150\r"
       ]
      },
      {
       "output_type": "stream",
       "stream": "stderr",
       "text": [
        "[################### ]      146 / 150\r",
        "[################### ]      147 / 150\r"
       ]
      },
      {
       "output_type": "stream",
       "stream": "stderr",
       "text": [
        "[################### ]      148 / 150\r",
        "[################### ]      149 / 150\r"
       ]
      },
      {
       "output_type": "stream",
       "stream": "stdout",
       "text": [
        "[ 85 169 168 161 154 235 235  88  14 188 234 221 229 235  14  13  72  82\n",
        "  65 236  72 209  12 137  50 212 235 163  14 216 121  61  13  14 204 235\n",
        " 143 237 229 122  51 234 164 235 236 220  55 195  67 120 222 235 236 234\n",
        " 133  55 207 236 235 234  40 234 234 234  14 144  13  12 231 233  14  13\n",
        " 235  20  13 138 237 195 233 235 234 236 161 151  30 222 141 237 235  28\n",
        " 236 205  77  36 233 118 235 237  91 104 237 189 117 234 237 237 142 195\n",
        " 105  14 235 235 175  11 234 236 202 102 145 235 170  13  14 113  13 235\n",
        "  53  30 129  76 180 233  59 237 236  65 151 236  85  13 236 235 187  14\n",
        " 194  89 149  13 236  14]\n",
        "[ 65  99  99  94  88 206 233  55  88 235 230 138  15 160  37 127  89 197\n",
        " 151  27  74 234 219 235 142 235 232 141  81 230 235  36 159 123 129 127\n",
        " 234  74 235 236  26 231 192 223  87  14 235  28 225  99  14 234  15 231\n",
        " 129  44 167 217 136 231 209 231 231 234 187 235 152 221 233 231  88 139\n",
        " 231 233 121 234  45 234 231 206 175 163 234 233  27  47 162  66 128 115\n",
        " 104  52 235  41 234 235 220  61  23 207  15 235 144 231  54  52 235  34\n",
        " 235  38 158 202  51 224 234 210 234 235 169 235 234 235  49 235 185 176\n",
        " 149  27 235 181 161 232 161  40 181 235 203  14  76 135 120 225  14 126\n",
        " 233 234 234 106  87  82]"
       ]
      },
      {
       "output_type": "stream",
       "stream": "stdout",
       "text": [
        "\n",
        "[158 236 236 237 236  63 159 237 212 169 232 183  50 186 159 236  41 190\n",
        "  93  66 236 184 235 156  76 142 216  44 237  95 135  32 223 236 146  93\n",
        " 142 226 160 178  52 233 122 211 200 107 235 221 236 236 146 103  16 233\n",
        "  82  31  61 175 235 234 170 233 232 199 180 176 236 235 223 233 237 199\n",
        " 227 235 235 177 215 235 232 207 234  35 143 212  42 120 212 124 128 134\n",
        " 236  90 235  50 139 198 188  15  32 112 199 220 225 233 237  15 235 217\n",
        " 235 162 174 234 206 235 135  73 197 140  82 103 143 236 198 117 236 175\n",
        "  78  37 143 223  73 233  78  40 151 235 200 129 235 222 156 178  81 153\n",
        " 137 221 234 230 200 236]"
       ]
      },
      {
       "output_type": "stream",
       "stream": "stdout",
       "text": [
        "\n",
        "                     brightness (int)    : min=0 max=255 step=1 default=128 value=128\n",
        "                       contrast (int)    : min=0 max=255 step=1 default=128 value=128\n",
        "                     saturation (int)    : min=0 max=255 step=1 default=128 value=128\n",
        " white_balance_temperature_auto (bool)   : default=1 value=0\n",
        "                           gain (int)    : min=0 max=255 step=1 default=0 value=150\n",
        "           power_line_frequency (menu)   : min=0 max=2 default=2 value=1\n",
        "\t\t\t\t0: Disabled\n",
        "\t\t\t\t1: 50 Hz\n",
        "\t\t\t\t2: 60 Hz\n",
        "      white_balance_temperature (int)    : min=2000 max=6500 step=1 default=4000 value=6500\n",
        "                      sharpness (int)    : min=0 max=255 step=1 default=128 value=128\n",
        "         backlight_compensation (int)    : min=0 max=1 step=1 default=0 value=0\n",
        "                  exposure_auto (menu)   : min=0 max=3 default=3 value=1\n",
        "\t\t\t\t1: Manual Mode\n",
        "\t\t\t\t3: Aperture Priority Mode\n",
        "              exposure_absolute (int)    : min=3 max=2047 step=1 default=250 value=295\n",
        "         exposure_auto_priority (bool)   : default=0 value=1\n",
        "                   pan_absolute (int)    : min=-36000 max=36000 step=3600 default=0 value=0\n",
        "                  tilt_absolute (int)    : min=-36000 max=36000 step=3600 default=0 value=0\n",
        "                 focus_absolute (int)    : min=0 max=250 step=5 default=0 value=40\n",
        "                     focus_auto (bool)   : default=1 value=0\n",
        "                  zoom_absolute (int)    : min=100 max=500 step=1 default=100 value=100\n",
        "                      led1_mode (menu)   : min=0 max=3 default=0 value=3\n",
        "\t\t\t\t0: Off\n",
        "\t\t\t\t1: On\n",
        "\t\t\t\t2: Blink\n",
        "\t\t\t\t3: Auto\n",
        "                 led1_frequency (int)    : min=0 max=255 step=1 default=0 value=0\n"
       ]
      },
      {
       "output_type": "stream",
       "stream": "stderr",
       "text": [
        "\r",
        "                                                                                                                                                                                  \r"
       ]
      },
      {
       "output_type": "stream",
       "stream": "stdout",
       "text": [
        "\n"
       ]
      },
      {
       "name": "stdout",
       "output_type": "stream",
       "stream": "stdout",
       "text": [
        "Happy? [Y/n/set] \n"
       ]
      }
     ],
     "prompt_number": 4
    },
    {
     "cell_type": "code",
     "collapsed": false,
     "input": [
      "#device_b['index'] = 1\n",
      "device_a['v4l2_ctls'] = DEFAULT_CTRLS + \",\" + device_a['ctls']\n",
      "device_b['v4l2_ctls'] = DEFAULT_CTRLS + \",\" + device_b['ctls']\n",
      "\n",
      "TRIBUTARY_TEMPLATE = (\n",
      "    \"v4l2src device=%(devpath)s extra-controls=\\\"ctrls, %(v4l2_ctls)s\\\" ! video/x-h264,width=1920 \"\n",
      "    \"! vaapidecode ! vaapipostproc ! glupload ! queue \"\n",
      "    \"! tee name=unmod_%(index)i ! queue ! combine.sink_%(index)i \"\n",
      "#    \"     unmod_%(index)i. ! queue ! glimagesink \"\n",
      ")\n",
      "\n",
      "shader_loc = '%s/.config/stbt/camera-combine.frag' % os.environ['HOME']\n",
      "\n",
      "combined_source_pipeline = (\n",
      "    TRIBUTARY_TEMPLATE % device_a + \" \" +\n",
      "    TRIBUTARY_TEMPLATE % device_b + \" \" +\n",
      "    \"glstereomix name=combine ! glviewconvert output-mode-override=top-bottom \"\n",
      "    \"! glshader location=%s ! gldownload ! videoconvert ! video/x-raw,width=1280,height=720\" % shader_loc)\n",
      "#a.__exit__(None, None, None)\n",
      "#tv = tv_driver.create_from_args(\"adb\", stbt_camera_calibrate.videos)\n",
      "\n",
      "import jinja2\n",
      "t = jinja2.Template(open('camera-combine.frag.jinja2').read())\n",
      "with open(shader_loc, 'w') as out:\n",
      "    out.write(t.render(cameras=[device_a, device_b]))\n",
      "_stbt.config.set_config('global', 'source_pipeline', combined_source_pipeline)\n",
      "_stbt.config.set_config('global', 'transformation_pipeline', \"identity\")\n",
      "\n"
     ],
     "language": "python",
     "metadata": {},
     "outputs": [],
     "prompt_number": 5
    },
    {
     "cell_type": "code",
     "collapsed": false,
     "input": [
      "with _stbt.core.new_device_under_test_from_config() as dut:\n",
      "    try:\n",
      "        stbt._dut = dut\n",
      "        raw_input()\n",
      "    finally:\n",
      "        stbt._dut = None        "
     ],
     "language": "python",
     "metadata": {},
     "outputs": []
    },
    {
     "cell_type": "code",
     "collapsed": false,
     "input": [
      "reload(stbt_camera_calibrate)\n",
      "stbt_camera_calibrate.prompt_for_adjustment(device)\n",
      "stbt_camera_calibrate.adjust_levels(tv, device)"
     ],
     "language": "python",
     "metadata": {},
     "outputs": []
    },
    {
     "cell_type": "code",
     "collapsed": false,
     "input": [
      "import numpy\n",
      "g = numpy.array([4, 3, 3, 4])\n",
      "n_0_255 = numpy.array(range(0, len(g) - 1))\n",
      "n_1_256 = numpy.array(range(1, len(g)))\n",
      "\n",
      "\n",
      "inc = g[n_1_256] - g[n_0_255]\n",
      "-10 * numpy.sum(inc[inc < 0])\n",
      "#numpy.sum(numpy.max(0, g[n_0_255] - g[n_1_256]))\n",
      "#g[n_0_255] - g[n_1_256]\n",
      "#numpy.max(0, (g[n_0_255] - g[n_1_256])[])"
     ],
     "language": "python",
     "metadata": {},
     "outputs": []
    }
   ],
   "metadata": {}
  }
 ]
}